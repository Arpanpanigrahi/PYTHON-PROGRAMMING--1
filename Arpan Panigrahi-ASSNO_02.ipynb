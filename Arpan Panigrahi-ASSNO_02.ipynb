{
 "cells": [
  {
   "cell_type": "code",
   "execution_count": 3,
   "metadata": {
    "cocalc": {
     "outputs": {
      "0": {
       "name": "input",
       "opts": {
        "password": false,
        "prompt": "Enter lenght in centimeter: "
       },
       "output_type": "stream",
       "value": "15"
      }
     }
    },
    "collapsed": false
   },
   "outputs": [
    {
     "name": "stdout",
     "output_type": "stream",
     "text": "Enter lenght in centimeter:  15"
    },
    {
     "name": "stdout",
     "output_type": "stream",
     "text": [
      "lenght in inches is :  38.1\n"
     ]
    }
   ],
   "source": [
    "# QNO:1.Write a program that asks the user to enter a length in centimetres. If the user enters a negative length, \n",
    "#the program should tell the user that the entry is invalid. Otherwise, the program should convert the length to inches and print out the result.\n",
    "#1inch = 2.54 centimetres.\n",
    "# NAME: ARPAN PANIGRAHI\n",
    "# SIC NO: 180310197\n",
    "\n",
    "length = float(input(\"Enter lenght in centimeter: \"))\n",
    "if(length < 0):\n",
    "    print(\"Entry is invalid\")\n",
    "else:\n",
    "    print(\"lenght in inches is : \",length*2.54)"
   ]
  },
  {
   "cell_type": "code",
   "execution_count": 6,
   "metadata": {
    "cocalc": {
     "outputs": {
      "0": {
       "name": "input",
       "opts": {
        "password": false,
        "prompt": "Enter temperature to convert: "
       },
       "output_type": "stream",
       "value": "35"
      },
      "1": {
       "name": "input",
       "opts": {
        "password": false,
        "prompt": "Enter the units of the temperature you entered, enter C for Celcius or F for Fahrenheits: "
       },
       "output_type": "stream",
       "value": "C"
      }
     }
    },
    "collapsed": false
   },
   "outputs": [
    {
     "name": "stdout",
     "output_type": "stream",
     "text": "Enter temperature to convert:  35"
    },
    {
     "name": "stdout",
     "output_type": "stream",
     "text": "Enter the units of the temperature you entered, enter C for Celcius or F for Fahrenheits:  C"
    },
    {
     "name": "stdout",
     "output_type": "stream",
     "text": [
      "95.0 degree Fahrenheits\n"
     ]
    }
   ],
   "source": [
    "# QNO:2.Ask the user for a temperature. Then ask them what units, Celsius or Fahrenheit, the temperature is in. \n",
    "#Your program should convert the temperature to the other unit. The conversions are F = 9 5C +32 and C = 5 9(F−32).\n",
    "# NAME: ARPAN PANIGRAHI\n",
    "# SIC NO: 180310197\n",
    "\n",
    "while True:\n",
    "    temperature = input(\"Enter temperature to convert: \")\n",
    "    try:\n",
    "        temperature = float(temperature)\n",
    "    except:\n",
    "        print(\"The entry is invalid\")\n",
    "        continue\n",
    "    units_options = \"cCfF\"\n",
    "    while True:\n",
    "        units = input(\"Enter the units of the temperature you entered, enter C for Celcius or F for Fahrenheits: \")\n",
    "        if units not in units_options:\n",
    "        \n",
    "            print(\"invalid units, Enter C or F: \")\n",
    "            continue\n",
    "        else:\n",
    "             break\n",
    "    break\n",
    "    \n",
    "if units in \"cC\":\n",
    "    converted_units = \"degree Fahrenheits\"\n",
    "    converted_temp = ((9*temperature)/5) +32\n",
    "else:\n",
    "    converted_units = \"degree Celsius\"\n",
    "    converted_temp = (5/9)*(temperature - 32)\n",
    "    \n",
    "    \n",
    "print(converted_temp, converted_units)\n",
    "    \n",
    "\n"
   ]
  },
  {
   "cell_type": "code",
   "execution_count": 7,
   "metadata": {
    "cocalc": {
     "outputs": {
      "0": {
       "name": "input",
       "opts": {
        "password": false,
        "prompt": "Enter the temperature in celsius: "
       },
       "output_type": "stream",
       "value": "40"
      }
     }
    },
    "collapsed": false
   },
   "outputs": [
    {
     "name": "stdout",
     "output_type": "stream",
     "text": "Enter the temperature in celsius:  40"
    },
    {
     "name": "stdout",
     "output_type": "stream",
     "text": [
      "temperature is in the normal range\n"
     ]
    }
   ],
   "source": [
    "# QNO:3.Ask the user to enter a temperature in Celsius. The program should print a message based on the temperature: \n",
    "#If the temperature is less than -273.15, print that the temperature is invalid because it is below absolute zero.\n",
    "#• If it is exactly -273.15, print that the temperature is absolute 0. \n",
    "#• If the temperature is between- 273.15 and 0, print that the temperature is below freezing.\n",
    "#• If it is 0, print that the temperature is at the freezing point. \n",
    "#• If it is between 0 and 100, print that the temperature is in the normal range.\n",
    "#• If it is 100, print that the temperature is at the boiling point. \n",
    "#• If it is above 100, print that the temperature is above the boiling point.\n",
    "# NAME: ARPAN PANIGRAHI\n",
    "# SIC NO: 180310197\n",
    "\n",
    "temp = float(input(\"Enter the temperature in celsius: \"))\n",
    "if temp < -273.12:\n",
    "    print(\"Temperature is invalid because it is below absolute zero\")\n",
    "elif temp == -273.15:\n",
    "    print(\"Temperature is absolute zero\")\n",
    "elif  temp  >  -273.15  and  temp  <0:\n",
    "    print(\"temperature is below freezing\")\n",
    "elif  temp  ==  0:\n",
    "    print(\"temperature is at the freezing point\")\n",
    "elif  temp  >  0  and  temp  <100:\n",
    "    print(\"temperature is in the normal range\")\n",
    "elif  temp  ==  100:\n",
    "    print(\"temperature is at the boiling point\")\n",
    "elif  temp  >  100:\n",
    "    print(\"temperature is above boiling point\")\n"
   ]
  },
  {
   "cell_type": "code",
   "execution_count": 9,
   "metadata": {
    "cocalc": {
     "outputs": {
      "0": {
       "name": "input",
       "opts": {
        "password": false,
        "prompt": "Enter the no of credits you have taken: "
       },
       "output_type": "stream",
       "value": "90"
      }
     }
    },
    "collapsed": false
   },
   "outputs": [
    {
     "name": "stdout",
     "output_type": "stream",
     "text": "Enter the no of credits you have taken:  90"
    },
    {
     "name": "stdout",
     "output_type": "stream",
     "text": [
      "You are senior\n"
     ]
    }
   ],
   "source": [
    "# QNO:4.Write a program that asks the user how many credits they have taken. If they have taken 23 or less,\n",
    "#print that the student is a freshman. If they have taken between 24 and 53, print that they are a sophomore. \n",
    "#The range for juniors is 54 to 83, and for seniors it is 84 and over.\n",
    "# NAME: ARPAN PANIGRAHI\n",
    "# SIC NO: 180310197\n",
    "\n",
    "credits = int(input(\"Enter the no of credits you have taken: \"))\n",
    "\n",
    "if  credits  <=  23:\n",
    "    print(\"You are freshman\")\n",
    "if  credits  >  23  and  credits  <=  53:\n",
    "    print(\"You are sophomore\")\n",
    "if  credits  >  53  and  credits  <=  83:\n",
    "    print(\"You are junior\")\n",
    "if  credits  >=  84:\n",
    "    print(\"You are senior\")\n",
    "\n"
   ]
  },
  {
   "cell_type": "code",
   "execution_count": 11,
   "metadata": {
    "cocalc": {
     "outputs": {
      "0": {
       "name": "input",
       "opts": {
        "password": false,
        "prompt": "Guess the number: "
       },
       "output_type": "stream",
       "value": "3"
      }
     }
    },
    "collapsed": false
   },
   "outputs": [
    {
     "name": "stdout",
     "output_type": "stream",
     "text": "Guess the number:  3"
    },
    {
     "name": "stdout",
     "output_type": "stream",
     "text": [
      "Oops!  You  are  wrong.The  correct  number  is 9\n"
     ]
    }
   ],
   "source": [
    "# QNO:5.Generate a random number between 1 and 10. Ask the user to guess the number and print a message based on whether they get it right or not.\n",
    "# NAME: ARPAN PANIGRAHI\n",
    "# SIC NO: 180310197\n",
    "\n",
    "import random\n",
    "num  =  random.randint(1,10)\n",
    "guess = int(input(\"Guess the number: \"))\n",
    "if(guess  ==  num):\n",
    "    print(\"congratulations! you are right.\")\n",
    "else:\n",
    "    print(\"Oops!  You  are  wrong.The  correct  number  is\",num)\n"
   ]
  },
  {
   "cell_type": "code",
   "execution_count": 12,
   "metadata": {
    "cocalc": {
     "outputs": {
      "0": {
       "name": "input",
       "opts": {
        "password": false,
        "prompt": "Enter the no of items you are purchasing: "
       },
       "output_type": "stream",
       "value": "65"
      }
     }
    },
    "collapsed": false
   },
   "outputs": [
    {
     "name": "stdout",
     "output_type": "stream",
     "text": "Enter the no of items you are purchasing:  65"
    },
    {
     "name": "stdout",
     "output_type": "stream",
     "text": [
      "Total cost:  650\n"
     ]
    }
   ],
   "source": [
    "# QNO:6.A store charges 12 dollars per item if you buy less than 10 items. If you buy between 10 and 99 items, the cost is 10 dollars per item.\n",
    "#If you buy 100 or more items, the cost is 7 dollars per item. Write a program that asks the user how many items they are buying and prints the total cost.\n",
    "# NAME: ARPAN PANIGRAHI\n",
    "# SIC NO: 180310197\n",
    "\n",
    "item = int(input(\"Enter the no of items you are purchasing: \"))\n",
    "if(item < 10):\n",
    "    cost  =  item  * 12\n",
    "elif  item  >=  10  and  item  <  100:\n",
    "    cost = item * 10\n",
    "else:\n",
    "    cost = item * 7\n",
    "print(\"Total cost: \",cost)\n"
   ]
  },
  {
   "cell_type": "code",
   "execution_count": 14,
   "metadata": {
    "cocalc": {
     "outputs": {
      "0": {
       "name": "input",
       "opts": {
        "password": false,
        "prompt": "Enter the first number: "
       },
       "output_type": "stream",
       "value": "10"
      },
      "1": {
       "name": "input",
       "opts": {
        "password": false,
        "prompt": "Enter the second number: "
       },
       "output_type": "stream",
       "value": "12"
      }
     }
    },
    "collapsed": false
   },
   "outputs": [
    {
     "name": "stdout",
     "output_type": "stream",
     "text": "Enter the first number:  10"
    },
    {
     "name": "stdout",
     "output_type": "stream",
     "text": "Enter the second number:  12"
    },
    {
     "name": "stdout",
     "output_type": "stream",
     "text": [
      "10 and 12 are  not  close\n"
     ]
    }
   ],
   "source": [
    "#QNO:7.Write a program that asks the user for two numbers and prints Close if the numbers are within .001 of each other and Not close otherwise.\n",
    "# NAME: ARPAN PANIGRAHI\n",
    "# SIC NO: 180310197\n",
    "\n",
    "num1 = eval(input(\"Enter the first number: \"))\n",
    "num2 = eval(input(\"Enter the second number: \"))\n",
    "\n",
    "if abs(num1 - num2) <= 0.001:\n",
    "    print(num1,  \"and\",  num2,  \"are  close\")\n",
    "else:\n",
    "    print(num1,  \"and\",  num2,  \"are  not  close\")\n"
   ]
  },
  {
   "cell_type": "code",
   "execution_count": 15,
   "metadata": {
    "cocalc": {
     "outputs": {
      "0": {
       "name": "input",
       "opts": {
        "password": false,
        "prompt": "Enter the year: "
       },
       "output_type": "stream",
       "value": "2020"
      }
     }
    },
    "collapsed": false
   },
   "outputs": [
    {
     "name": "stdout",
     "output_type": "stream",
     "text": "Enter the year:  2020"
    },
    {
     "name": "stdout",
     "output_type": "stream",
     "text": [
      "2020 is leap year\n"
     ]
    }
   ],
   "source": [
    "# QNO:8.A year is a leap year if it is divisible by 4, except that years divisible by 100 are not leap years unless they are also divisible by 400.\n",
    "#Write a program that asks the user for a year and prints out whether it is a leap year or not.\n",
    "# NAME: ARPAN PANIGRAHI\n",
    "# SIC NO: 180310197\n",
    "\n",
    "year = int(input(\"Enter the year: \"))\n",
    "if  (((year%4  ==  0)  and  (year%100  !=  0))  or  (year%400  ==  0)):             print(year, \"is leap year\")\n",
    "else:\n",
    "    print(year, \"is not a leap year\")"
   ]
  },
  {
   "cell_type": "code",
   "execution_count": 16,
   "metadata": {
    "cocalc": {
     "outputs": {
      "0": {
       "name": "input",
       "opts": {
        "password": false,
        "prompt": "Enter an hour in between 1 and 12: "
       },
       "output_type": "stream",
       "value": "9"
      },
      "1": {
       "name": "input",
       "opts": {
        "password": false,
        "prompt": "Enter am or pm: "
       },
       "output_type": "stream",
       "value": "am"
      },
      "2": {
       "name": "input",
       "opts": {
        "password": false,
        "prompt": "Enter how many hours you want to go in future: "
       },
       "output_type": "stream",
       "value": "40"
      }
     }
    },
    "collapsed": false
   },
   "outputs": [
    {
     "name": "stdout",
     "output_type": "stream",
     "text": "Enter an hour in between 1 and 12:  9"
    },
    {
     "name": "stdout",
     "output_type": "stream",
     "text": "Enter am or pm:  am"
    },
    {
     "name": "stdout",
     "output_type": "stream",
     "text": "Enter how many hours you want to go in future:  40"
    },
    {
     "name": "stdout",
     "output_type": "stream",
     "text": [
      "future time: 1 am\n"
     ]
    }
   ],
   "source": [
    "# QNO:9.Write a program that asks the user for an hour between 1 and 12, asks them to enter am or pm, and asks them \n",
    "#how many hours into the future they want to go. Print out what the hour will be that many hours into the future, printing am or pm as appropriate. \n",
    "#An example is shown below.\n",
    "#Enter hour: 8 am How many hours ahead? 5 New hour: 1 pm.\n",
    "# NAME: ARPAN PANIGRAHI\n",
    "# SIC NO: 180310197\n",
    "\n",
    "hour = int(input(\"Enter an hour in between 1 and 12: \"))\n",
    "\n",
    "am_pm = input(\"Enter am or pm: \")\n",
    "\n",
    "future_hour = int(input(\"Enter how many hours you want to go in future: \"))\n",
    "\n",
    "time = (hour + future_hour) % 24\n",
    "\n",
    "if  time  >  12:\n",
    "    time = time - 12\n",
    "    if am_pm == 'am':\n",
    "        future_am_pm = 'pm'\n",
    "    else:\n",
    "        future_am_pm = 'am'\n",
    "else:\n",
    "    if am_pm == 'am':\n",
    "        future_am_pm = 'am'\n",
    "    else:\n",
    "        future_am_pm = 'pm'\n",
    "\n",
    "print(f\"future time: {time} {future_am_pm}\")\n"
   ]
  },
  {
   "cell_type": "code",
   "execution_count": 0,
   "metadata": {
    "collapsed": false
   },
   "outputs": [
   ],
   "source": [
   ]
  }
 ],
 "metadata": {
  "kernelspec": {
   "display_name": "Python 3 (system-wide)",
   "language": "python",
   "metadata": {
    "cocalc": {
     "description": "Python 3 programming language",
     "priority": 100,
     "url": "https://www.python.org/"
    }
   },
   "name": "python3",
   "resource_dir": "/ext/jupyter/kernels/python3"
  }
 },
 "nbformat": 4,
 "nbformat_minor": 4
}