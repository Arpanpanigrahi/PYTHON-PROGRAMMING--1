{
 "cells": [
  {
   "cell_type": "code",
   "execution_count": 1,
   "metadata": {
    "cocalc": {
     "outputs": {
      "0": {
       "name": "input",
       "opts": {
        "password": false,
        "prompt": "Guess a number between 1 and 5: "
       },
       "output_type": "stream",
       "value": "3"
      },
      "10": {
       "name": "input",
       "opts": {
        "password": false,
        "prompt": "Guess a number between 1 and 5: "
       },
       "output_type": "stream",
       "value": "5"
      },
      "12": {
       "name": "input",
       "opts": {
        "password": false,
        "prompt": "Guess a number between 1 and 5: "
       },
       "output_type": "stream",
       "value": "5"
      },
      "14": {
       "name": "input",
       "opts": {
        "password": false,
        "prompt": "Guess a number between 1 and 5: "
       },
       "output_type": "stream",
       "value": "5"
      },
      "2": {
       "name": "input",
       "opts": {
        "password": false,
        "prompt": "Guess a number between 1 and 5: "
       },
       "output_type": "stream",
       "value": "5"
      },
      "4": {
       "name": "input",
       "opts": {
        "password": false,
        "prompt": "Guess a number between 1 and 5: "
       },
       "output_type": "stream",
       "value": "4"
      },
      "6": {
       "name": "input",
       "opts": {
        "password": false,
        "prompt": "Guess a number between 1 and 5: "
       },
       "output_type": "stream",
       "value": "3"
      },
      "8": {
       "name": "input",
       "opts": {
        "password": false,
        "prompt": "Guess a number between 1 and 5: "
       },
       "output_type": "stream",
       "value": "2"
      }
     }
    },
    "collapsed": false
   },
   "outputs": [
    {
     "name": "stdout",
     "output_type": "stream",
     "text": "Guess a number between 1 and 5:  3"
    },
    {
     "name": "stdout",
     "output_type": "stream",
     "text": [
      "The number was 2\n"
     ]
    },
    {
     "name": "stdout",
     "output_type": "stream",
     "text": "Guess a number between 1 and 5:  5"
    },
    {
     "name": "stdout",
     "output_type": "stream",
     "text": [
      "The number was 1\n"
     ]
    },
    {
     "name": "stdout",
     "output_type": "stream",
     "text": "Guess a number between 1 and 5:  4"
    },
    {
     "name": "stdout",
     "output_type": "stream",
     "text": [
      "The number was 5\n"
     ]
    },
    {
     "name": "stdout",
     "output_type": "stream",
     "text": "Guess a number between 1 and 5:  3"
    },
    {
     "name": "stdout",
     "output_type": "stream",
     "text": [
      "The number was 4\n"
     ]
    },
    {
     "name": "stdout",
     "output_type": "stream",
     "text": "Guess a number between 1 and 5:  2"
    },
    {
     "name": "stdout",
     "output_type": "stream",
     "text": [
      "The number was 5\n"
     ]
    },
    {
     "name": "stdout",
     "output_type": "stream",
     "text": "Guess a number between 1 and 5:  5"
    },
    {
     "name": "stdout",
     "output_type": "stream",
     "text": [
      "The number was 3\n"
     ]
    },
    {
     "name": "stdout",
     "output_type": "stream",
     "text": "Guess a number between 1 and 5:  5"
    },
    {
     "name": "stdout",
     "output_type": "stream",
     "text": [
      "The number was 4\n"
     ]
    },
    {
     "name": "stdout",
     "output_type": "stream",
     "text": "Guess a number between 1 and 5:  5"
    },
    {
     "name": "stdout",
     "output_type": "stream",
     "text": [
      "You got the number\n"
     ]
    }
   ],
   "source": [
    "# QNO:1.The computer picks a random number from 1 to 5, the player tries to guess. \n",
    "#The player may have the flexibility to enter the number in an expression format.\n",
    "# NAME: ARPAN PANIGRAHI\n",
    "# SIC NO: 180310197\n",
    "\n",
    "from random import randint\n",
    "while  1:\n",
    "    n  =  randint(1,5)\n",
    "    input_no = int(input(\"Guess a number between 1 and 5: \"))\n",
    "    if  input_no  ==  n:\n",
    "        print(\"You got the number\")\n",
    "        break \n",
    "    else:\n",
    "        print(f\"The number was {n}\")"
   ]
  },
  {
   "cell_type": "code",
   "execution_count": 4,
   "metadata": {
    "cocalc": {
     "outputs": {
      "1": {
       "name": "input",
       "opts": {
        "password": false,
        "prompt": ""
       },
       "output_type": "stream",
       "value": "36"
      },
      "10": {
       "name": "input",
       "opts": {
        "password": false,
        "prompt": ""
       },
       "output_type": "stream"
      },
      "13": {
       "name": "input",
       "opts": {
        "password": false,
        "prompt": ""
       },
       "output_type": "stream",
       "value": "48"
      },
      "15": {
       "name": "input",
       "opts": {
        "password": false,
        "prompt": ""
       },
       "output_type": "stream",
       "value": "63"
      },
      "17": {
       "name": "input",
       "opts": {
        "password": false,
        "prompt": ""
       },
       "output_type": "stream",
       "value": "25"
      },
      "19": {
       "name": "input",
       "opts": {
        "password": false,
        "prompt": ""
       },
       "output_type": "stream",
       "value": "3"
      },
      "3": {
       "name": "input",
       "opts": {
        "password": false,
        "prompt": ""
       },
       "output_type": "stream",
       "value": "40"
      },
      "4": {
       "name": "input",
       "opts": {
        "password": false,
        "prompt": ""
       },
       "output_type": "stream"
      },
      "7": {
       "name": "input",
       "opts": {
        "password": false,
        "prompt": ""
       },
       "output_type": "stream",
       "value": "50"
      },
      "8": {
       "name": "input",
       "opts": {
        "password": false,
        "prompt": ""
       },
       "output_type": "stream"
      }
     }
    },
    "collapsed": false
   },
   "outputs": [
    {
     "name": "stdout",
     "output_type": "stream",
     "text": [
      "Question 1: 6 x 6 = "
     ]
    },
    {
     "name": "stdout",
     "output_type": "stream",
     "text": " 36"
    },
    {
     "name": "stdout",
     "output_type": "stream",
     "text": [
      "Right\n",
      "Question 2: 8 x 5 = "
     ]
    },
    {
     "name": "stdout",
     "output_type": "stream",
     "text": " 40"
    },
    {
     "name": "stdout",
     "output_type": "stream",
     "text": " "
    },
    {
     "name": "stdout",
     "output_type": "stream",
     "text": [
      "Right\n",
      "Question 3: 7 x 6 = "
     ],
     "value": "76"
    },
    {
     "name": "stdout",
     "output_type": "stream",
     "text": [
      "Wrong. The answer is 42\n",
      "Question 4: 10 x 5 = "
     ]
    },
    {
     "name": "stdout",
     "output_type": "stream",
     "text": " 50"
    },
    {
     "name": "stdout",
     "output_type": "stream",
     "text": " "
    },
    {
     "name": "stdout",
     "output_type": "stream",
     "text": [
      "Right\n",
      "Question 5: 6 x 10 = "
     ],
     "value": "45"
    },
    {
     "name": "stdout",
     "output_type": "stream",
     "text": " "
    },
    {
     "name": "stdout",
     "output_type": "stream",
     "text": [
      "Wrong. The answer is 60\n",
      "Question 6: 1 x 9 = "
     ],
     "value": "9"
    },
    {
     "name": "stdout",
     "output_type": "stream",
     "text": [
      "Right\n",
      "Question 7: 6 x 8 = "
     ]
    },
    {
     "name": "stdout",
     "output_type": "stream",
     "text": " 48"
    },
    {
     "name": "stdout",
     "output_type": "stream",
     "text": [
      "Right\n",
      "Question 8: 9 x 7 = "
     ]
    },
    {
     "name": "stdout",
     "output_type": "stream",
     "text": " 63"
    },
    {
     "name": "stdout",
     "output_type": "stream",
     "text": [
      "Right\n",
      "Question 9: 5 x 5 = "
     ]
    },
    {
     "name": "stdout",
     "output_type": "stream",
     "text": " 25"
    },
    {
     "name": "stdout",
     "output_type": "stream",
     "text": [
      "Right\n",
      "Question 10: 3 x 1 = "
     ]
    },
    {
     "name": "stdout",
     "output_type": "stream",
     "text": " 3"
    },
    {
     "name": "stdout",
     "output_type": "stream",
     "text": [
      "Right\n"
     ]
    }
   ],
   "source": [
    "# QNO:2.Write a multiplication game program for kids. The program should give the player ten randomly generated multiplication questions to do.\n",
    "#After each, the program should tell them whether they got it right or wrong and what the correct answer is.\n",
    "# NAME: ARPAN PANIGRAHI\n",
    "# SIC NO: 180310197\n",
    "\n",
    "from random import randint\n",
    "\n",
    "for  i  in  range(1,11):\n",
    "    no1  =  randint(1,  10) \n",
    "    no2  =  randint(1,  10)\n",
    "    print(f\"Question {i}: {no1} x {no2} =\", end = \" \") \n",
    "    ans = int(input())\n",
    "    if  ans  ==  no1*no2: \n",
    "        print(\"Right\")\n",
    "    else:\n",
    "        print(f\"Wrong. The answer is {no1*no2}\")\n"
   ]
  },
  {
   "cell_type": "code",
   "execution_count": 5,
   "metadata": {
    "collapsed": false
   },
   "outputs": [
    {
     "name": "stdout",
     "output_type": "stream",
     "text": [
      "The list does not contain an even number\n"
     ]
    }
   ],
   "source": [
    "# QNO:3.Check a list contains even number or not numbers = [11,33,55,39,55,75,37,21,23,41,13]\n",
    "# NAME: ARPAN PANIGRAHI\n",
    "# SIC NO: 180310197\n",
    "\n",
    "numbers  =  [11,  33,  55,  39,  55,  75,  37,  21,  23,  41,  13]\n",
    "\n",
    "for  i  in  numbers:\n",
    "    if  i  %  2  ==  0:\n",
    "        print(\"The list contains an even number\")\n",
    "        break\n",
    "else:\n",
    "    print(\"The list does not contain an even number\")"
   ]
  },
  {
   "cell_type": "code",
   "execution_count": 9,
   "metadata": {
    "cocalc": {
     "outputs": {
      "0": {
       "name": "input",
       "opts": {
        "password": false,
        "prompt": "Enter the nth value: "
       },
       "output_type": "stream",
       "value": "5"
      }
     }
    },
    "collapsed": false
   },
   "outputs": [
    {
     "name": "stdout",
     "output_type": "stream",
     "text": "Enter the nth value:  5"
    },
    {
     "name": "stdout",
     "output_type": "stream",
     "text": [
      "Fibonacci Series :  0 1 1 2 3 5 "
     ]
    }
   ],
   "source": [
    "# QNO:4.Read N and generate the Fibonacci sequence upto N\n",
    "# NAME: ARPAN PANIGRAHI\n",
    "# SIC NO: 180310197\n",
    "\n",
    "n = int(input(\"Enter the nth value: \"))\n",
    "a = 0\n",
    "b = 1\n",
    "sum = 0\n",
    "print(\"Fibonacci Series : \", end = \" \")\n",
    "while(sum <= n):\n",
    "     print(sum, end = \" \")\n",
    "     a = b\n",
    "     b = sum\n",
    "     sum = a + b\n"
   ]
  },
  {
   "cell_type": "code",
   "execution_count": 10,
   "metadata": {
    "cocalc": {
     "outputs": {
      "0": {
       "name": "input",
       "opts": {
        "password": false,
        "prompt": "Enter height of the box: "
       },
       "output_type": "stream",
       "value": "5"
      },
      "1": {
       "name": "input",
       "opts": {
        "password": false,
        "prompt": "Enter width of the box: "
       },
       "output_type": "stream",
       "value": "9"
      }
     }
    },
    "collapsed": false
   },
   "outputs": [
    {
     "name": "stdout",
     "output_type": "stream",
     "text": "Enter height of the box:  5"
    },
    {
     "name": "stdout",
     "output_type": "stream",
     "text": "Enter width of the box:  9"
    },
    {
     "name": "stdout",
     "output_type": "stream",
     "text": [
      "*********\n",
      "*********\n",
      "*********\n",
      "*********\n",
      "*********\n"
     ]
    }
   ],
   "source": [
    "# QNO:5.Use a for loop to print a box like the one below. Allow the user to specify how wide and how high the box should be.\n",
    "#[Hint: print(''10) prints ten asterisks.]\n",
    "# NAME: ARPAN PANIGRAHI\n",
    "# SIC NO: 180310197\n",
    "\n",
    "height = int(input(\"Enter height of the box: \"))\n",
    "width = int(input(\"Enter width of the box: \"))\n",
    "\n",
    "for  i  in  range(1,  height+1):\n",
    "    print(\"*\" * width)\n"
   ]
  },
  {
   "cell_type": "code",
   "execution_count": 11,
   "metadata": {
    "cocalc": {
     "outputs": {
      "0": {
       "name": "input",
       "opts": {
        "password": false,
        "prompt": "Enter height of the box: "
       },
       "output_type": "stream",
       "value": "5"
      },
      "1": {
       "name": "input",
       "opts": {
        "password": false,
        "prompt": "Enter width of the box: "
       },
       "output_type": "stream",
       "value": "10"
      }
     }
    },
    "collapsed": false
   },
   "outputs": [
    {
     "name": "stdout",
     "output_type": "stream",
     "text": "Enter height of the box:  5"
    },
    {
     "name": "stdout",
     "output_type": "stream",
     "text": "Enter width of the box:  10"
    },
    {
     "name": "stdout",
     "output_type": "stream",
     "text": [
      "**********\n",
      "*        *\n",
      "*        *\n",
      "*        *\n",
      "**********\n"
     ]
    }
   ],
   "source": [
    "# QNO:6.Use loop to print a box like the one below. Allow the user to specify how wide and how high the box should be.\n",
    "# NAME: ARPAN PANIGRAHI\n",
    "# SIC NO: 180310197\n",
    "\n",
    "height = int(input(\"Enter height of the box: \"))\n",
    "width = int(input(\"Enter width of the box: \"))\n",
    "\n",
    "for  i  in  range(1,  height+1):\n",
    "    if i == 1 or i == height: \n",
    "        print(\"*\" * width)\n",
    "    else:\n",
    "        print(\"*\" + \" \" * (width-2) + \"*\")"
   ]
  },
  {
   "cell_type": "code",
   "execution_count": 12,
   "metadata": {
    "cocalc": {
     "outputs": {
      "0": {
       "name": "input",
       "opts": {
        "password": false,
        "prompt": "Enter height of the box: "
       },
       "output_type": "stream",
       "value": "9"
      }
     }
    },
    "collapsed": false
   },
   "outputs": [
    {
     "name": "stdout",
     "output_type": "stream",
     "text": "Enter height of the box:  9"
    },
    {
     "name": "stdout",
     "output_type": "stream",
     "text": [
      "     *\n",
      "    ***\n",
      "   *****\n",
      "  *******\n",
      " *********\n",
      "  *******\n",
      "   *****\n",
      "    ***\n",
      "     *\n"
     ]
    }
   ],
   "source": [
    "# QNO:7.Use for loops to print a diamond like the one below. Allow the user to specify how high the diamond should be.\n",
    "# NAME: ARPAN PANIGRAHI\n",
    "# SIC NO: 180310197\n",
    "\n",
    "height = int(input(\"Enter height of the box: \")) \n",
    "h  =  int(height/2)  +  2\n",
    "x = -1\n",
    "for  i  in  range(1,  height  +  1):\n",
    "    if  i  <=  height/2  +  1: \n",
    "        h = h - 1\n",
    "        x  =  x  + 2\n",
    "        print(\" \" * h + \"*\" * x)\n",
    "    else:\n",
    "        x = x -2 \n",
    "        h = h + 1\n",
    "        print(\" \" * h + \"*\" * x)"
   ]
  },
  {
   "cell_type": "code",
   "execution_count": 14,
   "metadata": {
    "cocalc": {
     "outputs": {
      "0": {
       "name": "input",
       "opts": {
        "password": false,
        "prompt": "Rock, Paper, Scissors?"
       },
       "output_type": "stream",
       "value": "Rock"
      },
      "2": {
       "name": "input",
       "opts": {
        "password": false,
        "prompt": "Rock, Paper, Scissors?"
       },
       "output_type": "stream",
       "value": "Rock"
      },
      "4": {
       "name": "input",
       "opts": {
        "password": false,
        "prompt": "Rock, Paper, Scissors?"
       },
       "output_type": "stream",
       "value": "Paper"
      },
      "5": {
       "name": "input",
       "opts": {
        "password": false,
        "prompt": "Rock, Paper, Scissors?"
       },
       "output_type": "stream"
      },
      "7": {
       "name": "input",
       "opts": {
        "password": false,
        "prompt": "Rock, Paper, Scissors?"
       },
       "output_type": "stream"
      }
     }
    },
    "collapsed": false
   },
   "outputs": [
    {
     "name": "stdout",
     "output_type": "stream",
     "text": "Rock, Paper, Scissors? Rock"
    },
    {
     "name": "stdout",
     "output_type": "stream",
     "text": [
      "You win! Rock smashes Scissors\n"
     ]
    },
    {
     "name": "stdout",
     "output_type": "stream",
     "text": "Rock, Paper, Scissors? Rock"
    },
    {
     "name": "stdout",
     "output_type": "stream",
     "text": [
      "You win! Rock smashes Scissors\n"
     ]
    },
    {
     "name": "stdout",
     "output_type": "stream",
     "text": "Rock, Paper, Scissors? Paper"
    },
    {
     "name": "stdout",
     "output_type": "stream",
     "text": "Rock, Paper, Scissors? "
    },
    {
     "name": "stdout",
     "output_type": "stream",
     "text": [
      "You lose! Scissors cut Paper\n"
     ],
     "value": "Scissors"
    },
    {
     "name": "stdout",
     "output_type": "stream",
     "text": "Rock, Paper, Scissors? "
    },
    {
     "name": "stdout",
     "output_type": "stream",
     "text": [
      "Tie!\n"
     ],
     "value": "Rock"
    },
    {
     "name": "stdout",
     "output_type": "stream",
     "text": [
      "You win! Rock smashes Scissors\n",
      "Computer score: 1\n",
      "Player score: 3\n"
     ]
    }
   ],
   "source": [
    "# QNO:8.Write a program that lets the user play Rock-Paper-Scissors against the computer. \n",
    "#There should be five rounds, and after those five rounds, your program should print out who won and lost or that there is a tie.\n",
    "# NAME: ARPAN PANIGRAHI\n",
    "# SIC NO: 180310197\n",
    "\n",
    "from random import randint\n",
    "\n",
    "t = [\"Rock\", \"Paper\", \"Scissors\"] \n",
    "\n",
    "compScore = 0\n",
    "playerScore = 0\n",
    "\n",
    "computer  =  t[randint(0,2)]\n",
    "\n",
    "for  i  in  range(1,6):\n",
    "    player = input(\"Rock, Paper, Scissors?\")\n",
    "    if player == computer: \n",
    "        print(\"Tie!\")\n",
    "    elif player == \"Rock\":\n",
    "        if computer == \"Paper\":\n",
    "            print(\"You lose!\", computer, \"covers\", player) \n",
    "            compScore += 1\n",
    "        else:\n",
    "            print(\"You win!\", player, \"smashes\", computer)\n",
    "            playerScore += 1\n",
    "    elif player == \"Paper\":\n",
    "        if computer == \"Scissors\":\n",
    "            print(\"You lose!\", computer, \"cut\", player) \n",
    "            compScore += 1\n",
    "        else:\n",
    "            print(\"You win!\", player, \"covers\", computer) \n",
    "            playerScore += 1\n",
    "    elif player == \"Scissors\":\n",
    "        if computer == \"Rock\":\n",
    "            print(\"You lose...\", computer, \"smashes\", player)\n",
    "            compScore += 1\n",
    "        else:\n",
    "            print(\"You win!\", player, \"cut\", computer) \n",
    "            playerScore += 1\n",
    "    else:\n",
    "        print(\"That's not a valid play. Check your spelling!\")\n",
    "        computer  =  t[randint(0,2)]\n",
    "\n",
    "\n",
    "print(f\"Computer score: {compScore}\") \n",
    "print(f\"Player score: {playerScore}\")\n"
   ]
  },
  {
   "cell_type": "code",
   "execution_count": 15,
   "metadata": {
    "cocalc": {
     "outputs": {
      "0": {
       "name": "input",
       "opts": {
        "password": false,
        "prompt": "Enter a word: "
       },
       "output_type": "stream",
       "value": "difference"
      }
     }
    },
    "collapsed": false
   },
   "outputs": [
    {
     "name": "stdout",
     "output_type": "stream",
     "text": "Enter a word:  difference"
    },
    {
     "name": "stdout",
     "output_type": "stream",
     "text": [
      "magic word\n"
     ]
    }
   ],
   "source": [
    "# QNO:9.Here a word \"S\" of length \"n\" is said to be magic word if it satisfies the following conditions: \n",
    "#All letters of S are lowercase letters of the English alphabets. Si , the character in the ith position, \n",
    "#is lexicographically smaller than Sn-1-i for all even i from 0 to n/2 Si is lexicographically greater than\n",
    "#Sn-1-i for all odd i from 0 to n/2 For example, the word “difference” is a magic word, while “similar” is not. \n",
    "#Given a word, write python code to check whether the word is magic or not.\n",
    "# NAME: ARPAN PANIGRAHI\n",
    "# SIC NO: 180310197\n",
    "\n",
    "word = input(\"Enter a word: \") \n",
    "length = len(word)\n",
    "flag = -1\n",
    "\n",
    "for  i  in  range(0,  int(length/2)):\n",
    "    if  i%2  ==  0:\n",
    "        if  word[i]  <  word[length  -  1  -  i]:\n",
    "            flag = 1\n",
    "        else:\n",
    "            flag = 0\n",
    "            break\n",
    "    else:\n",
    "        if  word[i]  >  word[length  -  1  -  i]: \n",
    "            flag = 1\n",
    "        else:\n",
    "            flag = 0\n",
    "            break\n",
    "\n",
    "if  flag==0:\n",
    "    print(\"not a magic word\")\n",
    "elif  flag==1:\n",
    "    print(\"magic word\")"
   ]
  },
  {
   "cell_type": "code",
   "execution_count": 0,
   "metadata": {
    "collapsed": false
   },
   "outputs": [
   ],
   "source": [
   ]
  }
 ],
 "metadata": {
  "kernelspec": {
   "display_name": "Python 3 (system-wide)",
   "language": "python",
   "metadata": {
    "cocalc": {
     "description": "Python 3 programming language",
     "priority": 100,
     "url": "https://www.python.org/"
    }
   },
   "name": "python3",
   "resource_dir": "/ext/jupyter/kernels/python3"
  },
  "language_info": {
   "codemirror_mode": {
    "name": "ipython",
    "version": 3
   },
   "file_extension": ".py",
   "mimetype": "text/x-python",
   "name": "python",
   "nbconvert_exporter": "python",
   "pygments_lexer": "ipython3",
   "version": "3.8.5"
  }
 },
 "nbformat": 4,
 "nbformat_minor": 4
}