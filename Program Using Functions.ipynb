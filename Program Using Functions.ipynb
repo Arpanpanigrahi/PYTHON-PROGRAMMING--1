{
 "cells": [
  {
   "cell_type": "code",
   "execution_count": 1,
   "metadata": {
    "cocalc": {
     "outputs": {
      "0": {
       "name": "input",
       "opts": {
        "password": false,
        "prompt": "Please enter any number to find factorial: "
       },
       "output_type": "stream",
       "value": "6"
      }
     }
    },
    "collapsed": false
   },
   "outputs": [
    {
     "name": "stdout",
     "output_type": "stream",
     "text": "Please enter any number to find factorial:  6"
    },
    {
     "name": "stdout",
     "output_type": "stream",
     "text": [
      "The factorial of 6 = 720\n"
     ]
    }
   ],
   "source": [
    "#3.\n",
    "def factorial(num):\n",
    "    fact=1\n",
    "\n",
    "    for i in range(1, num+1):\n",
    "        fact=fact*i\n",
    "    return fact    \n",
    "\n",
    "number=int(input(\"Please enter any number to find factorial: \"))\n",
    "\n",
    "result=factorial(number)\n",
    "\n",
    "print(\"The factorial of %d = %d\"%(number,result))"
   ]
  },
  {
   "cell_type": "code",
   "execution_count": 2,
   "metadata": {
    "collapsed": false
   },
   "outputs": [
    {
     "name": "stdout",
     "output_type": "stream",
     "text": [
      "11 is a prime number\n"
     ]
    }
   ],
   "source": [
    "#4.\n",
    "num = 11\n",
    "\n",
    "if num > 1:\n",
    "    for i in range(2, int(num/2)+1):\n",
    "        if (num % i) == 0:\n",
    "            print(num, \"is not a prime number\")\n",
    "            break\n",
    "    else:\n",
    "        print(num, \"is a prime number\")\n",
    " \n",
    "else:\n",
    "    print(num, \"is not a prime number\")"
   ]
  },
  {
   "cell_type": "code",
   "execution_count": 3,
   "metadata": {
    "collapsed": false
   },
   "outputs": [
    {
     "name": "stdout",
     "output_type": "stream",
     "text": [
      "2\n",
      "2\n",
      "2\n",
      "5\n",
      "5\n"
     ]
    }
   ],
   "source": [
    "#5.\n",
    "import math\n",
    "def primeFactors(n):\n",
    "   while n % 2 == 0:\n",
    "      print (2),\n",
    "      n = n / 2\n",
    "   for i in range(3,int(math.sqrt(n))+1,2):\n",
    "      # while i divides n\n",
    "      while n % i== 0:\n",
    "         print (i)\n",
    "         n = n / i\n",
    "   if n > 2:\n",
    "      print (n)\n",
    "n = 200\n",
    "primeFactors(n)"
   ]
  },
  {
   "cell_type": "code",
   "execution_count": 4,
   "metadata": {
    "collapsed": false
   },
   "outputs": [
    {
     "name": "stdout",
     "output_type": "stream",
     "text": [
      "4\n"
     ]
    }
   ],
   "source": [
    "#6.\n",
    "import math\n",
    "class Solution:\n",
    "   def solve(self, n):\n",
    "      if n < 10:\n",
    "         return n\n",
    "      s = 0\n",
    "      l = math.floor(math.log(n, 10) + 1)\n",
    "      while l > 0:\n",
    "         s += n % 10\n",
    "         n //= 10\n",
    "         l -= 1\n",
    "      return self.solve(s)\n",
    "ob = Solution()\n",
    "print(ob.solve(9625))"
   ]
  },
  {
   "cell_type": "code",
   "execution_count": 5,
   "metadata": {
    "cocalc": {
     "outputs": {
      "0": {
       "name": "input",
       "opts": {
        "password": false,
        "prompt": "How many terms? "
       },
       "output_type": "stream",
       "value": "5"
      }
     }
    },
    "collapsed": false
   },
   "outputs": [
    {
     "name": "stdout",
     "output_type": "stream",
     "text": "How many terms?  5"
    },
    {
     "name": "stdout",
     "output_type": "stream",
     "text": [
      "Fibonacci sequence:\n",
      "0\n",
      "1\n",
      "1\n",
      "2\n",
      "3\n"
     ]
    }
   ],
   "source": [
    "#7.\n",
    "def recur_fibo(n):  \n",
    "   if n <= 1:  \n",
    "       return n  \n",
    "   else:  \n",
    "       return(recur_fibo(n-1) + recur_fibo(n-2))  \n",
    "nterms = int(input(\"How many terms? \"))  \n",
    "# check if the number of terms is valid  \n",
    "if nterms <= 0:  \n",
    "   print(\"Plese enter a positive integer\")  \n",
    "else:  \n",
    "   print(\"Fibonacci sequence:\")  \n",
    "   for i in range(nterms):  \n",
    "       print(recur_fibo(i)) "
   ]
  },
  {
   "cell_type": "code",
   "execution_count": 6,
   "metadata": {
    "collapsed": false
   },
   "outputs": [
    {
     "name": "stdout",
     "output_type": "stream",
     "text": [
      "The sum is 136\n"
     ]
    }
   ],
   "source": [
    "#8.\n",
    "def recur_sum(n):\n",
    "   if n <= 1:\n",
    "       return n\n",
    "   else:\n",
    "       return n + recur_sum(n-1)\n",
    "\n",
    "num = 16\n",
    "if num < 0:\n",
    "   print(\"Enter a positive number\")\n",
    "else:\n",
    "   print(\"The sum is\",recur_sum(num))"
   ]
  },
  {
   "cell_type": "code",
   "execution_count": 7,
   "metadata": {
    "collapsed": false
   },
   "outputs": [
    {
     "name": "stdout",
     "output_type": "stream",
     "text": [
      "Initial stack\n",
      "['a', 'b', 'c']\n",
      "\n",
      "Elements poped from stack:\n",
      "c\n",
      "b\n",
      "a\n",
      "\n",
      "Stack after elements are poped:\n",
      "[]\n"
     ]
    }
   ],
   "source": [
    "#9.\n",
    "stack = []\n",
    " \n",
    "# append() function to push\n",
    "# element in the stack\n",
    "stack.append('a')\n",
    "stack.append('b')\n",
    "stack.append('c')\n",
    " \n",
    "print('Initial stack')\n",
    "print(stack)\n",
    " \n",
    "# pop() fucntion to pop\n",
    "# element from stack in \n",
    "# LIFO order\n",
    "print('\\nElements poped from stack:')\n",
    "print(stack.pop())\n",
    "print(stack.pop())\n",
    "print(stack.pop())\n",
    " \n",
    "print('\\nStack after elements are poped:')\n",
    "print(stack)"
   ]
  },
  {
   "cell_type": "code",
   "execution_count": 12,
   "metadata": {
    "collapsed": false
   },
   "outputs": [
    {
     "name": "stdout",
     "output_type": "stream",
     "text": [
      "Original String = Marshmallow\n",
      "\n",
      "Using Stack\n",
      "Reversed String = wollamhsraM"
     ]
    }
   ],
   "source": [
    "#11.\n",
    "\n",
    "import sys\n",
    "\n",
    "def push(element, size, stack):\n",
    "    \n",
    "    global top\n",
    "    if top >= size - 1:\n",
    "        print('Stack Overflow')\n",
    "        sys.exit()\n",
    "    else:\n",
    "        top += 1\n",
    "        stack[top] = element\n",
    "\n",
    "def pop():\n",
    "\n",
    "    global top\n",
    "    if top < 0:\n",
    "        print('Stack Underflow')\n",
    "        sys.exit()\n",
    "    else:\n",
    "        element = stack[top]\n",
    "        print('%s' % element, end='')\n",
    "        top -= 1\n",
    "\n",
    "def reverse_by_sort(string):\n",
    "    string = list(string)\n",
    "    rev_str = ''\n",
    "    \n",
    "    for i in reversed(string):\n",
    "        rev_str += i\n",
    "\n",
    "    return rev_str\n",
    "\n",
    "if __name__=='__main__':\n",
    "\n",
    "    size = 11\n",
    "    stack = [0]*size\n",
    "    string = 'Marshmallow'\n",
    "    top = -1\n",
    "\n",
    "    # Pushing value in the stack\n",
    "    push('M', 11, stack)\n",
    "    push('a', 11, stack)\n",
    "    push('r', 11, stack)\n",
    "    push('s', 11, stack)\n",
    "    push('h', 11, stack)\n",
    "    push('m', 11, stack)\n",
    "    push('a', 11, stack)\n",
    "    push('l', 11, stack)\n",
    "    push('l', 11, stack)\n",
    "    push('o', 11, stack)\n",
    "    push('w', 11, stack)\n",
    "\n",
    "    print('Original String = %s' % string)\n",
    "    \n",
    "    print('\\nUsing Stack')\n",
    "\n",
    "    # Popping values from stack and printing them\n",
    "    print('Reversed String = ',end='')\n",
    "    for i in stack:\n",
    "        pop()\n",
    "\n",
    "   \n"
   ]
  },
  {
   "cell_type": "code",
   "execution_count": 0,
   "metadata": {
    "collapsed": false
   },
   "outputs": [
   ],
   "source": [
   ]
  }
 ],
 "metadata": {
  "kernelspec": {
   "display_name": "Python 3 (system-wide)",
   "language": "python",
   "metadata": {
    "cocalc": {
     "description": "Python 3 programming language",
     "priority": 100,
     "url": "https://www.python.org/"
    }
   },
   "name": "python3",
   "resource_dir": "/ext/jupyter/kernels/python3"
  },
  "language_info": {
   "codemirror_mode": {
    "name": "ipython",
    "version": 3
   },
   "file_extension": ".py",
   "mimetype": "text/x-python",
   "name": "python",
   "nbconvert_exporter": "python",
   "pygments_lexer": "ipython3",
   "version": "3.8.5"
  }
 },
 "nbformat": 4,
 "nbformat_minor": 4
}