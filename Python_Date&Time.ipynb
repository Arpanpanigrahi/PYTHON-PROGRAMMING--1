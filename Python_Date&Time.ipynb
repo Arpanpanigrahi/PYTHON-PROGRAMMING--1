{
 "cells": [
  {
   "cell_type": "code",
   "execution_count": 2,
   "metadata": {
    "collapsed": false
   },
   "outputs": [
    {
     "name": "stdout",
     "output_type": "stream",
     "text": [
      "Number of ticks since 12:00am, January 1, 1970: 1616671573.8210745\n"
     ]
    }
   ],
   "source": [
    "#Q1.\n",
    "#NAME:ARPAN PANIGRAHI\n",
    "#SICNO:180310197\n",
    "\n",
    "import time; # This is required to include time module. \n",
    "ticks = time.time() \n",
    "print(\"Number of ticks since 12:00am, January 1, 1970:\", ticks)"
   ]
  },
  {
   "cell_type": "code",
   "execution_count": 3,
   "metadata": {
    "collapsed": false
   },
   "outputs": [
    {
     "name": "stdout",
     "output_type": "stream",
     "text": [
      "Local current time : time.struct_time(tm_year=2021, tm_mon=3, tm_mday=25, tm_hour=11, tm_min=27, tm_sec=22, tm_wday=3, tm_yday=84, tm_isdst=0)\n"
     ]
    }
   ],
   "source": [
    "#Q2.\n",
    "#NAME:ARPAN PANIGRAHI\n",
    "#SICNO:180310197\n",
    "\n",
    "import time; \n",
    "localtime = time.localtime(time.time()) \n",
    "print(\"Local current time :\", localtime)"
   ]
  },
  {
   "cell_type": "code",
   "execution_count": 4,
   "metadata": {
    "collapsed": false
   },
   "outputs": [
    {
     "name": "stdout",
     "output_type": "stream",
     "text": [
      "Local current time : Thu Mar 25 11:28:19 2021\n"
     ]
    }
   ],
   "source": [
    "#Q3.\n",
    "#NAME:ARPAN PANIGRAHI\n",
    "#SICNO:180310197\n",
    "\n",
    "import time; \n",
    "localtime = time.asctime( time.localtime(time.time()) ) \n",
    "print(\"Local current time :\", localtime)"
   ]
  },
  {
   "cell_type": "code",
   "execution_count": 5,
   "metadata": {
    "collapsed": false
   },
   "outputs": [
    {
     "name": "stdout",
     "output_type": "stream",
     "text": [
      "Here is the calendar:\n",
      "    January 2008\n",
      "Mo Tu We Th Fr Sa Su\n",
      "    1  2  3  4  5  6\n",
      " 7  8  9 10 11 12 13\n",
      "14 15 16 17 18 19 20\n",
      "21 22 23 24 25 26 27\n",
      "28 29 30 31\n",
      "\n"
     ]
    }
   ],
   "source": [
    "#Q4.\n",
    "#NAME:ARPAN PANIGRAHI\n",
    "#SICNO:180310197\n",
    "\n",
    "import calendar \n",
    "cal = calendar.month(2008, 1) \n",
    "print(\"Here is the calendar:\") \n",
    "print(cal)"
   ]
  }
 ],
 "metadata": {
  "kernelspec": {
   "argv": [
    "/usr/bin/python3",
    "-m",
    "ipykernel",
    "--HistoryManager.enabled=False",
    "--matplotlib=inline",
    "-c",
    "%config InlineBackend.figure_formats = set(['retina'])\nimport matplotlib; matplotlib.rcParams['figure.figsize'] = (12, 7)",
    "-f",
    "{connection_file}"
   ],
   "display_name": "Python 3 (system-wide)",
   "env": {
   },
   "language": "python",
   "metadata": {
    "cocalc": {
     "description": "Python 3 programming language",
     "priority": 100,
     "url": "https://www.python.org/"
    }
   },
   "name": "python3",
   "resource_dir": "/ext/jupyter/kernels/python3"
  },
  "language_info": {
   "codemirror_mode": {
    "name": "ipython",
    "version": 3
   },
   "file_extension": ".py",
   "mimetype": "text/x-python",
   "name": "python",
   "nbconvert_exporter": "python",
   "pygments_lexer": "ipython3",
   "version": "3.8.5"
  }
 },
 "nbformat": 4,
 "nbformat_minor": 4
}