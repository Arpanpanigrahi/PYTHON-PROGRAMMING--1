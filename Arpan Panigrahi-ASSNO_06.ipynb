{
 "cells": [
  {
   "cell_type": "code",
   "execution_count": 1,
   "metadata": {
    "cocalc": {
     "outputs": {
      "0": {
       "name": "input",
       "opts": {
        "password": false,
        "prompt": "Please enter the Total Number of List Elements : "
       },
       "output_type": "stream",
       "value": "6"
      },
      "1": {
       "name": "input",
       "opts": {
        "password": false,
        "prompt": "Please enter the Value of 1 Element : "
       },
       "output_type": "stream",
       "value": "45"
      },
      "2": {
       "name": "input",
       "opts": {
        "password": false,
        "prompt": "Please enter the Value of 2 Element : "
       },
       "output_type": "stream",
       "value": "2"
      },
      "3": {
       "name": "input",
       "opts": {
        "password": false,
        "prompt": "Please enter the Value of 3 Element : "
       },
       "output_type": "stream",
       "value": "76"
      },
      "4": {
       "name": "input",
       "opts": {
        "password": false,
        "prompt": "Please enter the Value of 4 Element : "
       },
       "output_type": "stream",
       "value": "9"
      },
      "5": {
       "name": "input",
       "opts": {
        "password": false,
        "prompt": "Please enter the Value of 5 Element : "
       },
       "output_type": "stream",
       "value": "3"
      },
      "6": {
       "name": "input",
       "opts": {
        "password": false,
        "prompt": "Please enter the Value of 6 Element : "
       },
       "output_type": "stream",
       "value": "67"
      }
     }
    },
    "collapsed": false
   },
   "outputs": [
    {
     "name": "stdout",
     "output_type": "stream",
     "text": "Please enter the Total Number of List Elements :  6"
    },
    {
     "name": "stdout",
     "output_type": "stream",
     "text": "Please enter the Value of 1 Element :  45"
    },
    {
     "name": "stdout",
     "output_type": "stream",
     "text": "Please enter the Value of 2 Element :  2"
    },
    {
     "name": "stdout",
     "output_type": "stream",
     "text": "Please enter the Value of 3 Element :  76"
    },
    {
     "name": "stdout",
     "output_type": "stream",
     "text": "Please enter the Value of 4 Element :  9"
    },
    {
     "name": "stdout",
     "output_type": "stream",
     "text": "Please enter the Value of 5 Element :  3"
    },
    {
     "name": "stdout",
     "output_type": "stream",
     "text": "Please enter the Value of 6 Element :  67"
    },
    {
     "name": "stdout",
     "output_type": "stream",
     "text": [
      "\n",
      " The Sum of All Element in this List is :  202\n"
     ]
    }
   ],
   "source": [
    "#1.Write a program to find the sum of all elements of a list\n",
    "# NAME: ARPAN PANIGRAHI\n",
    "# SIC NO: 180310197\n",
    "\n",
    "NumList = []\n",
    "\n",
    "Number = int(input(\"Please enter the Total Number of List Elements : \"))\n",
    "for i in range(1, Number + 1):\n",
    "    value = int(input(\"Please enter the Value of %d Element : \" %i))\n",
    "    NumList.append(value)\n",
    "\n",
    "total = sum(NumList)\n",
    "\n",
    "print(\"\\n The Sum of All Element in this List is : \", total)\n"
   ]
  },
  {
   "cell_type": "code",
   "execution_count": 2,
   "metadata": {
    "collapsed": false
   },
   "outputs": [
    {
     "name": "stdout",
     "output_type": "stream",
     "text": [
      "9\n",
      "1\n"
     ]
    }
   ],
   "source": [
    "#2.Write a program to find the maximum and minimum element of a list.\n",
    "# NAME: ARPAN PANIGRAHI\n",
    "# SIC NO: 180310197\n",
    "\n",
    "a_list = [5, 2, 7, 6, 3, 1, 9]\n",
    "maximum = max(a_list)\n",
    "print(maximum)\n",
    "minimum = min(a_list)\n",
    "print(minimum)\n",
    "    "
   ]
  },
  {
   "cell_type": "code",
   "execution_count": 3,
   "metadata": {
    "cocalc": {
     "outputs": {
      "0": {
       "name": "input",
       "opts": {
        "password": false,
        "prompt": "Enter the size of the List ::"
       },
       "output_type": "stream",
       "value": "6"
      },
      "2": {
       "name": "input",
       "opts": {
        "password": false,
        "prompt": ""
       },
       "output_type": "stream",
       "value": "32"
      },
      "3": {
       "name": "input",
       "opts": {
        "password": false,
        "prompt": ""
       },
       "output_type": "stream",
       "value": "23"
      },
      "4": {
       "name": "input",
       "opts": {
        "password": false,
        "prompt": ""
       },
       "output_type": "stream",
       "value": "55"
      },
      "5": {
       "name": "input",
       "opts": {
        "password": false,
        "prompt": ""
       },
       "output_type": "stream",
       "value": "1"
      },
      "6": {
       "name": "input",
       "opts": {
        "password": false,
        "prompt": ""
       },
       "output_type": "stream",
       "value": "0"
      },
      "7": {
       "name": "input",
       "opts": {
        "password": false,
        "prompt": ""
       },
       "output_type": "stream",
       "value": "7"
      }
     }
    },
    "collapsed": false
   },
   "outputs": [
    {
     "name": "stdout",
     "output_type": "stream",
     "text": "Enter the size of the List :: 6"
    },
    {
     "name": "stdout",
     "output_type": "stream",
     "text": [
      "Enter the Element ::\n"
     ]
    },
    {
     "name": "stdout",
     "output_type": "stream",
     "text": " 32"
    },
    {
     "name": "stdout",
     "output_type": "stream",
     "text": " 23"
    },
    {
     "name": "stdout",
     "output_type": "stream",
     "text": " 55"
    },
    {
     "name": "stdout",
     "output_type": "stream",
     "text": " 1"
    },
    {
     "name": "stdout",
     "output_type": "stream",
     "text": " 0"
    },
    {
     "name": "stdout",
     "output_type": "stream",
     "text": " 7"
    },
    {
     "name": "stdout",
     "output_type": "stream",
     "text": [
      "The maximum is at position:: 3\n",
      "The minimum is at position:: 5\n"
     ]
    }
   ],
   "source": [
    "#3. Write a program to find the position of maximum and minimum element’s position in a list.\n",
    "# NAME: ARPAN PANIGRAHI\n",
    "# SIC NO: 180310197\n",
    "\n",
    "def maxminposition(A, n):\n",
    " \n",
    "   minposition = A.index(min(A))\n",
    "\n",
    "   maxposition = A.index(max(A)) \n",
    "   print (\"The maximum is at position::\", maxposition + 1) \n",
    "   print (\"The minimum is at position::\", minposition + 1)\n",
    "\n",
    "A=list()\n",
    "n=int(input(\"Enter the size of the List ::\"))\n",
    "print(\"Enter the Element ::\")\n",
    "for i in range(int(n)):\n",
    "   k=int(input(\"\"))\n",
    "   A.append(k)\n",
    "maxminposition(A,n)\n"
   ]
  },
  {
   "cell_type": "code",
   "execution_count": 4,
   "metadata": {
    "collapsed": false
   },
   "outputs": [
    {
     "name": "stdout",
     "output_type": "stream",
     "text": [
      "{2, 5}\n"
     ]
    }
   ],
   "source": [
    "# 5.Write a program to print all the common elements of 2 list.\n",
    "# NAME: ARPAN PANIGRAHI\n",
    "# SIC NO: 180310197\n",
    "\n",
    "a=[2,9,4,5]\n",
    "b=[3,5,7,2]\n",
    "print(set(a).intersection(b))\n"
   ]
  },
  {
   "cell_type": "code",
   "execution_count": 5,
   "metadata": {
    "collapsed": false
   },
   "outputs": [
    {
     "name": "stdout",
     "output_type": "stream",
     "text": [
      "Reverse List:  [99, 66, 55, 23]\n"
     ]
    }
   ],
   "source": [
    "# 6.Write a program to reverse a list.\n",
    "# NAME: ARPAN PANIGRAHI\n",
    "# SIC NO: 180310197\n",
    "\n",
    "l = [23,55,66,99]\n",
    "x = list(reversed(l))\n",
    "print(\"Reverse List: \", x)\n"
   ]
  },
  {
   "cell_type": "code",
   "execution_count": 6,
   "metadata": {
    "collapsed": false
   },
   "outputs": [
    {
     "name": "stdout",
     "output_type": "stream",
     "text": [
      "The average of all elements in a list:  30.0\n"
     ]
    }
   ],
   "source": [
    "# 8.Write a program to find the average of all elements in a list\n",
    "# NAME: ARPAN PANIGRAHI\n",
    "# SIC NO: 180310197\n",
    "\n",
    "L = [10,20,30,40,50]\n",
    "average = sum(L)/len(L)\n",
    "print(\"The average of all elements in a list: \",average)\n"
   ]
  },
  {
   "cell_type": "code",
   "execution_count": 7,
   "metadata": {
    "cocalc": {
     "outputs": {
      "0": {
       "name": "input",
       "opts": {
        "password": false,
        "prompt": "How many Random Numbers want to disaply ::"
       },
       "output_type": "stream",
       "value": "4"
      },
      "1": {
       "name": "input",
       "opts": {
        "password": false,
        "prompt": "Enter Starting number ::"
       },
       "output_type": "stream",
       "value": "2"
      },
      "2": {
       "name": "input",
       "opts": {
        "password": false,
        "prompt": "Enter Ending number ::"
       },
       "output_type": "stream",
       "value": "78"
      }
     }
    },
    "collapsed": false
   },
   "outputs": [
    {
     "name": "stdout",
     "output_type": "stream",
     "text": "How many Random Numbers want to disaply :: 4"
    },
    {
     "name": "stdout",
     "output_type": "stream",
     "text": "Enter Starting number :: 2"
    },
    {
     "name": "stdout",
     "output_type": "stream",
     "text": "Enter Ending number :: 78"
    },
    {
     "name": "stdout",
     "output_type": "stream",
     "text": [
      "[59, 15, 23, 34]\n"
     ]
    }
   ],
   "source": [
    "# 9.Write a program to to generate random numbers within a given range and store it in a list\n",
    "# NAME: ARPAN PANIGRAHI\n",
    "# SIC NO: 180310197\n",
    "\n",
    "import random\n",
    "def randomno(s,e,n):\n",
    "   ran = []\n",
    "   for i in range(n):\n",
    "      ran.append(random.randint(s, e))\n",
    "   return ran\n",
    "\n",
    "n = int(input(\"How many Random Numbers want to disaply ::\"))\n",
    "s = int(input(\"Enter Starting number ::\"))\n",
    "e = int(input(\"Enter Ending number ::\"))\n",
    "print(randomno(s, e, n))\n"
   ]
  },
  {
   "cell_type": "code",
   "execution_count": 8,
   "metadata": {
    "cocalc": {
     "outputs": {
      "0": {
       "name": "input",
       "opts": {
        "password": false,
        "prompt": "Enter number of elements:"
       },
       "output_type": "stream",
       "value": "5"
      },
      "1": {
       "name": "input",
       "opts": {
        "password": false,
        "prompt": "Enter element:"
       },
       "output_type": "stream",
       "value": "32"
      },
      "2": {
       "name": "input",
       "opts": {
        "password": false,
        "prompt": "Enter element:"
       },
       "output_type": "stream",
       "value": "2"
      },
      "3": {
       "name": "input",
       "opts": {
        "password": false,
        "prompt": "Enter element:"
       },
       "output_type": "stream",
       "value": "43"
      },
      "4": {
       "name": "input",
       "opts": {
        "password": false,
        "prompt": "Enter element:"
       },
       "output_type": "stream",
       "value": "11"
      },
      "5": {
       "name": "input",
       "opts": {
        "password": false,
        "prompt": "Enter element:"
       },
       "output_type": "stream",
       "value": "23"
      }
     }
    },
    "collapsed": false
   },
   "outputs": [
    {
     "name": "stdout",
     "output_type": "stream",
     "text": "Enter number of elements: 5"
    },
    {
     "name": "stdout",
     "output_type": "stream",
     "text": "Enter element: 32"
    },
    {
     "name": "stdout",
     "output_type": "stream",
     "text": "Enter element: 2"
    },
    {
     "name": "stdout",
     "output_type": "stream",
     "text": "Enter element: 43"
    },
    {
     "name": "stdout",
     "output_type": "stream",
     "text": "Enter element: 11"
    },
    {
     "name": "stdout",
     "output_type": "stream",
     "text": "Enter element: 23"
    },
    {
     "name": "stdout",
     "output_type": "stream",
     "text": [
      "The even list [32, 2]\n",
      "The odd list [43, 11, 23]\n"
     ]
    }
   ],
   "source": [
    "# 10.Write a program to split the even and odd elements into 2 different lists\n",
    "# NAME: ARPAN PANIGRAHI\n",
    "# SIC NO: 180310197\n",
    "\n",
    "a=[]\n",
    "n=int(input(\"Enter number of elements:\"))\n",
    "for i in range(1,n+1):\n",
    "    b=int(input(\"Enter element:\"))\n",
    "    a.append(b)\n",
    "even=[]\n",
    "odd=[]\n",
    "for j in a:\n",
    "    if(j%2==0):\n",
    "        even.append(j)\n",
    "    else:\n",
    "        odd.append(j)\n",
    "print(\"The even list\",even)\n",
    "print(\"The odd list\",odd)\n"
   ]
  },
  {
   "cell_type": "code",
   "execution_count": 9,
   "metadata": {
    "collapsed": false
   },
   "outputs": [
    {
     "name": "stdout",
     "output_type": "stream",
     "text": [
      "()\n",
      "()\n"
     ]
    }
   ],
   "source": [
    "#11.Write a Python program to create a tuple\n",
    "# NAME: ARPAN PANIGRAHI\n",
    "# SIC NO: 180310197\n",
    "\n",
    "x = ()\n",
    "\n",
    "print(x)\n",
    "\n",
    "y = tuple()\n",
    "print(y)"
   ]
  },
  {
   "cell_type": "code",
   "execution_count": 10,
   "metadata": {
    "collapsed": false
   },
   "outputs": [
    {
     "name": "stdout",
     "output_type": "stream",
     "text": [
      "('tuple', False, 3.2, 1)\n"
     ]
    }
   ],
   "source": [
    "#12.Write a Python program to create a tuple with different data types\n",
    "# NAME: ARPAN PANIGRAHI\n",
    "# SIC NO: 180310197\n",
    "\n",
    "#Create a tuple with different data types\n",
    "tuplex = (\"tuple\", False, 3.2, 1)\n",
    "print(tuplex)"
   ]
  },
  {
   "cell_type": "code",
   "execution_count": 12,
   "metadata": {
    "collapsed": false
   },
   "outputs": [
    {
     "name": "stdout",
     "output_type": "stream",
     "text": [
      "(4, 8, 3)\n",
      "15\n"
     ]
    },
    {
     "ename": "ValueError",
     "evalue": "not enough values to unpack (expected 4, got 3)",
     "output_type": "error",
     "traceback": [
      "\u001b[0;31m---------------------------------------------------------------------------\u001b[0m",
      "\u001b[0;31mValueError\u001b[0m                                Traceback (most recent call last)",
      "\u001b[0;32m<ipython-input-12-a7032c94dd5f>\u001b[0m in \u001b[0;36m<module>\u001b[0;34m\u001b[0m\n\u001b[1;32m      8\u001b[0m \u001b[0mprint\u001b[0m\u001b[0;34m(\u001b[0m\u001b[0mn1\u001b[0m \u001b[0;34m+\u001b[0m \u001b[0mn2\u001b[0m \u001b[0;34m+\u001b[0m \u001b[0mn3\u001b[0m\u001b[0;34m)\u001b[0m\u001b[0;34m\u001b[0m\u001b[0;34m\u001b[0m\u001b[0m\n\u001b[1;32m      9\u001b[0m \u001b[0;31m#the number of variables must be equal to the number of items of the tuple\u001b[0m\u001b[0;34m\u001b[0m\u001b[0;34m\u001b[0m\u001b[0;34m\u001b[0m\u001b[0m\n\u001b[0;32m---> 10\u001b[0;31m \u001b[0mn1\u001b[0m\u001b[0;34m,\u001b[0m \u001b[0mn2\u001b[0m\u001b[0;34m,\u001b[0m \u001b[0mn3\u001b[0m\u001b[0;34m,\u001b[0m \u001b[0mn4\u001b[0m \u001b[0;34m=\u001b[0m \u001b[0mtuplex\u001b[0m\u001b[0;34m\u001b[0m\u001b[0;34m\u001b[0m\u001b[0m\n\u001b[0m",
      "\u001b[0;31mValueError\u001b[0m: not enough values to unpack (expected 4, got 3)"
     ]
    }
   ],
   "source": [
    "#13.Write a Python program to unpack a tuple in several variables\n",
    "# NAME: ARPAN PANIGRAHI\n",
    "# SIC NO: 180310197\n",
    "\n",
    "#create a tuple\n",
    "tuplex = 4, 8, 3\n",
    "print(tuplex)\n",
    "n1, n2, n3 = tuplex\n",
    "#unpack a tuple in variables\n",
    "print(n1 + n2 + n3)\n",
    "#the number of variables must be equal to the number of items of the tuple\n",
    "n1, n2, n3, n4 = tuplex"
   ]
  },
  {
   "cell_type": "code",
   "execution_count": 13,
   "metadata": {
    "collapsed": false
   },
   "outputs": [
    {
     "name": "stdout",
     "output_type": "stream",
     "text": [
      "(4, 6, 2, 8, 3, 1)\n",
      "(4, 6, 2, 8, 3, 1, 9)\n",
      "(4, 6, 2, 8, 3, 15, 20, 25, 4, 6, 2, 8, 3)\n",
      "(4, 6, 2, 8, 3, 15, 20, 25, 4, 6, 2, 8, 3, 30)\n"
     ]
    }
   ],
   "source": [
    "#14.Write a Python program to add an item in a tuple.\n",
    "# NAME: ARPAN PANIGRAHI\n",
    "# SIC NO: 180310197\n",
    "\n",
    "#create a tuple\n",
    "tuplex = (4, 6, 2, 8, 3, 1) \n",
    "print(tuplex)\n",
    "#tuples are immutable, so you can not add new elements\n",
    "#using merge of tuples with the + operator you can add an element and it will create a new tuple\n",
    "tuplex = tuplex + (9,)\n",
    "print(tuplex)\n",
    "#adding items in a specific index\n",
    "tuplex = tuplex[:5] + (15, 20, 25) + tuplex[:5]\n",
    "print(tuplex)\n",
    "#converting the tuple to list\n",
    "listx = list(tuplex) \n",
    "#use different ways to add items in list\n",
    "listx.append(30)\n",
    "tuplex = tuple(listx)\n",
    "print(tuplex)"
   ]
  },
  {
   "cell_type": "code",
   "execution_count": 14,
   "metadata": {
    "collapsed": false
   },
   "outputs": [
    {
     "name": "stdout",
     "output_type": "stream",
     "text": [
      "exercises\n"
     ]
    }
   ],
   "source": [
    "#15.Write a Python program to convert a tuple to a string\n",
    "# NAME: ARPAN PANIGRAHI\n",
    "# SIC NO: 180310197\n",
    "\n",
    "tup = ('e', 'x', 'e', 'r', 'c', 'i', 's', 'e', 's')\n",
    "str =  ''.join(tup)\n",
    "print(str)"
   ]
  },
  {
   "cell_type": "code",
   "execution_count": 16,
   "metadata": {
    "collapsed": false
   },
   "outputs": [
    {
     "name": "stdout",
     "output_type": "stream",
     "text": [
      "('w', 4, 's', 'i', 'l', 'i', 'c', 'o', 'n')\n",
      "i\n",
      "i\n"
     ]
    }
   ],
   "source": [
    "#16.Write a Python program to get the 4th element and 4th element from last of a tuple.\n",
    "# NAME: ARPAN PANIGRAHI\n",
    "# SIC NO: 180310197\n",
    "\n",
    "#Get an item of the tuple\n",
    "tuplex = (\"w\", 4, \"s\", \"i\", \"l\", \"i\", \"c\", \"o\", \"n\")\n",
    "print(tuplex)\n",
    "#Get item (4th element)of the tuple by index\n",
    "item = tuplex[3]\n",
    "print(item)\n",
    "#Get item (4th element from last)by index negative\n",
    "item1 = tuplex[-4]\n",
    "print(item1)"
   ]
  },
  {
   "cell_type": "code",
   "execution_count": 17,
   "metadata": {
    "collapsed": false
   },
   "outputs": [
    {
     "name": "stdout",
     "output_type": "stream",
     "text": [
      "(2, 4, 5, 6, 2, 3, 4, 4, 7)\n",
      "3\n"
     ]
    }
   ],
   "source": [
    "#17.Write a Python program to find the repeated items of a tuple.\n",
    "# NAME: ARPAN PANIGRAHI\n",
    "# SIC NO: 180310197\n",
    "\n",
    "#create a tuple\n",
    "tuplex = 2, 4, 5, 6, 2, 3, 4, 4, 7 \n",
    "print(tuplex)\n",
    "#return the number of times it appears in the tuple.\n",
    "count = tuplex.count(4)\n",
    "print(count)\n"
   ]
  },
  {
   "cell_type": "code",
   "execution_count": 1,
   "metadata": {
    "collapsed": false
   },
   "outputs": [
    {
     "name": "stdout",
     "output_type": "stream",
     "text": [
      "True\n",
      "False\n"
     ]
    }
   ],
   "source": [
    "#4.Write a program to print all the element in a list that are greater than a given value.\n",
    "\n",
    "list1 = [220, 330, 500]\n",
    "list2 = [12, 17, 21]\n",
    "print(all(x >= 200 for x in list1))\n",
    "print(all(x >= 25 for x in list2))"
   ]
  },
  {
   "cell_type": "code",
   "execution_count": 3,
   "metadata": {
    "collapsed": false
   },
   "outputs": [
    {
     "name": "stdout",
     "output_type": "stream",
     "text": [
      "True\n",
      "False\n"
     ]
    }
   ],
   "source": [
    "#18. Write a Python program to check whether an element exists within a tuple.\n",
    "# NAME: ARPAN PANIGRAHI\n",
    "# SIC NO: 180310197\n",
    "\n",
    "tuplex = (\"w\", 3, \"r\", \"e\", \"s\", \"o\", \"u\", \"r\", \"c\", \"e\")\n",
    "print(\"r\" in tuplex)\n",
    "print(5 in tuplex)"
   ]
  },
  {
   "cell_type": "code",
   "execution_count": 4,
   "metadata": {
    "collapsed": false
   },
   "outputs": [
    {
     "name": "stdout",
     "output_type": "stream",
     "text": [
      "(5, 4)\n",
      "(2, 4, 3, 5, 4, 6)\n",
      "(6, 7, 8, 6, 1)\n",
      "(2, 4, 3, 5, 4, 6, 7, 8, 6, 1)\n",
      "(3, 5, 4, 6)\n",
      "('H', 'E', 'L', 'L', 'O', ' ', 'W', 'O', 'R', 'L', 'D')\n",
      "('L', 'O', 'W', 'R')\n",
      "('H', 'O', 'R')\n",
      "('L', ' ')\n"
     ]
    }
   ],
   "source": [
    "#19.Write a Python program to slice a tuple.\n",
    "# NAME: ARPAN PANIGRAHI\n",
    "# SIC NO: 180310197\n",
    "\n",
    "#create a tuple\n",
    "tuplex = (2, 4, 3, 5, 4, 6, 7, 8, 6, 1)\n",
    "#used tuple[start:stop] the start index is inclusive and the stop index\n",
    "_slice = tuplex[3:5]\n",
    "#is exclusive\n",
    "print(_slice)\n",
    "#if the start index isn't defined, is taken from the beginning of the tuple\n",
    "_slice = tuplex[:6]\n",
    "print(_slice)\n",
    "#if the end index isn't defined, is taken until the end of the tuple\n",
    "_slice = tuplex[5:]\n",
    "print(_slice)\n",
    "#if neither is defined, returns the full tuple\n",
    "_slice = tuplex[:]\n",
    "print(_slice)\n",
    "#The indexes can be defined with negative values\n",
    "_slice = tuplex[-8:-4]\n",
    "print(_slice)\n",
    "#create another tuple\n",
    "tuplex = tuple(\"HELLO WORLD\")\n",
    "print(tuplex)\n",
    "#step specify an increment between the elements to cut of the tuple\n",
    "#tuple[start:stop:step]\n",
    "_slice = tuplex[2:9:2]\n",
    "print(_slice)\n",
    "#returns a tuple with a jump every 3 items\n",
    "_slice = tuplex[::4]\n",
    "print(_slice)\n",
    "#when step is negative the jump is made back\n",
    "_slice = tuplex[9:2:-4]\n",
    "print(_slice)\n"
   ]
  },
  {
   "cell_type": "code",
   "execution_count": 5,
   "metadata": {
    "collapsed": false
   },
   "outputs": [
    {
     "name": "stdout",
     "output_type": "stream",
     "text": [
      "The index of e: 1\n",
      "The index of i: 2\n"
     ]
    }
   ],
   "source": [
    "#20.Write a Python program to find the index of an item of a tuple\n",
    "# NAME: ARPAN PANIGRAHI\n",
    "# SIC NO: 180310197\n",
    "\n",
    "# vowels tuple\n",
    "vowels = ('a', 'e', 'i', 'o', 'i', 'u')\n",
    "\n",
    "# index of 'e' in vowels\n",
    "index = vowels.index('e')\n",
    "print('The index of e:', index)\n",
    "\n",
    "# element 'i' is searched\n",
    "# index of the first 'i' is returned\n",
    "index = vowels.index('i')\n",
    "\n",
    "print('The index of i:', index)"
   ]
  },
  {
   "cell_type": "code",
   "execution_count": 6,
   "metadata": {
    "collapsed": false
   },
   "outputs": [
    {
     "name": "stdout",
     "output_type": "stream",
     "text": [
      "('s', 'i', 'l', 'i', 'c', 'o', 'n', 'i', 'n', 's', 't', 'i', 't', 'u', 't', 'e', 'o', 'f', 't', 'e', 'c', 'h', 'n', 'o', 'l', 'o', 'g', 'y', 'b', 'h', 'u', 'b', 'a', 'n', 'e', 's', 'w', 'a', 'r')\n",
      "39\n"
     ]
    }
   ],
   "source": [
    "#21. Write a Python program to find the length of a tuple.\n",
    "# NAME: ARPAN PANIGRAHI\n",
    "# SIC NO: 180310197\n",
    "\n",
    "#create a tuple\n",
    "tuplex = tuple(\"siliconinstituteoftechnologybhubaneswar\")\n",
    "print(tuplex)\n",
    "#use the len() function to known the length of tuple\n",
    "print(len(tuplex))"
   ]
  },
  {
   "cell_type": "code",
   "execution_count": 7,
   "metadata": {
    "collapsed": false
   },
   "outputs": [
    {
     "name": "stdout",
     "output_type": "stream",
     "text": [
      "{'w': 2, 'r': 3}\n"
     ]
    }
   ],
   "source": [
    "#22. Write a Python program to convert a tuple to a dictionary.\n",
    "# NAME: ARPAN PANIGRAHI\n",
    "# SIC NO: 180310197\n",
    "\n",
    "#create a tuple\n",
    "tuplex = ((2, \"w\"),(3, \"r\"))\n",
    "print(dict((y, x) for x, y in tuplex))"
   ]
  },
  {
   "cell_type": "code",
   "execution_count": 8,
   "metadata": {
    "collapsed": false
   },
   "outputs": [
    {
     "name": "stdout",
     "output_type": "stream",
     "text": [
      "[(1, 3, 8), (2, 4, 9)]\n"
     ]
    }
   ],
   "source": [
    "#23. Write a Python program to unzip a list of tuples into individual lists.\n",
    "# NAME: ARPAN PANIGRAHI\n",
    "# SIC NO: 180310197\n",
    "\n",
    "#create a tuple\n",
    "l = [(1,2), (3,4), (8,9)]\n",
    "print(list(zip(*l)))"
   ]
  },
  {
   "cell_type": "code",
   "execution_count": 9,
   "metadata": {
    "collapsed": false
   },
   "outputs": [
    {
     "name": "stdout",
     "output_type": "stream",
     "text": [
      "('y', 'g', 'o', 'l', 'o', 'n', 'h', 'c', 'e', 'T', 'f', 'o', 'e', 't', 'u', 't', 'i', 't', 's', 'n', 'I', 'n', 'o', 'c', 'i', 'l', 'i', 'S')\n",
      "(20, 15, 10, 5)\n"
     ]
    }
   ],
   "source": [
    "#24. Write a Python program to reverse a tuple.\n",
    "# NAME: ARPAN PANIGRAHI\n",
    "# SIC NO: 180310197\n",
    "\n",
    "#create a tuple\n",
    "x = (\"SiliconInstituteofTechnology\")\n",
    "# Reversed the tuple\n",
    "y = reversed(x)\n",
    "print(tuple(y))\n",
    "#create another tuple\n",
    "x = (5, 10, 15, 20)\n",
    "# Reversed the tuple\n",
    "y = reversed(x)\n",
    "print(tuple(y))\n"
   ]
  },
  {
   "cell_type": "code",
   "execution_count": 10,
   "metadata": {
    "collapsed": false
   },
   "outputs": [
    {
     "name": "stdout",
     "output_type": "stream",
     "text": [
      "The Dictionary Is ::> {'Arpit': 5, 'Arpan': 5, 'Buttler': 37, 'Gambhir': 7, 'Sanju': 25, 'Pandya': 30}\n"
     ]
    }
   ],
   "source": [
    "#25. Write a Python program to convert a list of tuples into a dictionary.\n",
    "# NAME: ARPAN PANIGRAHI\n",
    "# SIC NO: 180310197\n",
    "\n",
    "def listtodict(A, di):\n",
    "   di = dict(A)\n",
    "   return di\n",
    "\n",
    "A = [(\"Arpit\", 5), (\"Arpan\", 5), (\"Buttler\", 37), (\"Gambhir\", 7), (\"Sanju\", 25), (\"Pandya\", 30)]\n",
    "di = {}\n",
    "print (\"The Dictionary Is ::>\",listtodict(A, di))"
   ]
  },
  {
   "cell_type": "code",
   "execution_count": 11,
   "metadata": {
    "collapsed": false
   },
   "outputs": [
    {
     "name": "stdout",
     "output_type": "stream",
     "text": [
      "This is a tuple (100, 200, 300)\n"
     ]
    }
   ],
   "source": [
    "#26.Write a Python program to print a tuple with string formatting.\n",
    "#Sample tuple : (100, 200, 300)\n",
    "#Output : This is a tuple (100, 200, 300)\n",
    "# NAME: ARPAN PANIGRAHI\n",
    "# SIC NO: 180310197\n",
    "\n",
    "t = (100, 200, 300)\n",
    "print('This is a tuple {0}'.format(t))\n"
   ]
  },
  {
   "cell_type": "code",
   "execution_count": 12,
   "metadata": {
    "collapsed": false
   },
   "outputs": [
    {
     "name": "stdout",
     "output_type": "stream",
     "text": [
      "[(10, 20, 100), (40, 50, 100), (70, 80, 100)]\n"
     ]
    }
   ],
   "source": [
    "#27.Write a Python program to replace last value of tuples in a list.\n",
    "#Sample list: [(10, 20, 40), (40, 50, 60), (70, 80, 90)]\n",
    "#Expected Output: [(10, 20, 100), (40, 50, 100), (70, 80, 100)]\n",
    "# NAME: ARPAN PANIGRAHI\n",
    "# SIC NO: 180310197\n",
    "\n",
    "l = [(10, 20, 40), (40, 50, 60), (70, 80, 90)]\n",
    "print([t[:-1] + (100,) for t in l])\n"
   ]
  },
  {
   "cell_type": "code",
   "execution_count": 13,
   "metadata": {
    "collapsed": false
   },
   "outputs": [
    {
     "name": "stdout",
     "output_type": "stream",
     "text": [
      "[('',), ('a', 'b'), ('a', 'b', 'c'), 'd']\n"
     ]
    }
   ],
   "source": [
    "#28.Write a Python program to replace last value of tuples in a list.\n",
    "#Sample data: [(), (), ('',), ('a', 'b'), ('a', 'b', 'c'), ('d')]\n",
    "#Expected output: [('',), ('a', 'b'), ('a', 'b', 'c'), 'd']\n",
    "# NAME: ARPAN PANIGRAHI\n",
    "# SIC NO: 180310197\n",
    "\n",
    "L = [(), (), ('',), ('a', 'b'), ('a', 'b', 'c'), ('d')]\n",
    "L = [t for t in L if t]\n",
    "print(L)\n"
   ]
  },
  {
   "cell_type": "code",
   "execution_count": 14,
   "metadata": {
    "collapsed": false
   },
   "outputs": [
    {
     "name": "stdout",
     "output_type": "stream",
     "text": [
      "[('item3', '24.5'), ('item2', '15.10'), ('item1', '12.20')]\n"
     ]
    }
   ],
   "source": [
    "#29.. Write a Python program to sort a tuple by its float element.\n",
    "#Sample data: [('item1', '12.20'), ('item2', '15.10'), ('item3', '24.5')]\n",
    "#Expected Output: [('item3', '24.5'), ('item2', '15.10'), ('item1', '12.20')]\n",
    "# NAME: ARPAN PANIGRAHI\n",
    "# SIC NO: 180310197\n",
    "\n",
    "price = [('item1', '12.20'), ('item2', '15.10'), ('item3', '24.5')]\n",
    "print( sorted(price, key=lambda x: float(x[1]), reverse=True))\n"
   ]
  },
  {
   "cell_type": "code",
   "execution_count": 15,
   "metadata": {
    "collapsed": false
   },
   "outputs": [
    {
     "name": "stdout",
     "output_type": "stream",
     "text": [
      "3\n"
     ]
    }
   ],
   "source": [
    "#30.Write a Python program to count the elements in a list until an element is a tuple.\n",
    "# NAME: ARPAN PANIGRAHI\n",
    "# SIC NO: 180310197\n",
    "\n",
    "num = [10,20,30,(10,20),40]\n",
    "ctr = 0\n",
    "for n in num:\n",
    "    if isinstance(n, tuple):\n",
    "        break\n",
    "    ctr += 1\n",
    "print(ctr)\n"
   ]
  },
  {
   "cell_type": "code",
   "execution_count": 0,
   "metadata": {
    "collapsed": false
   },
   "outputs": [
   ],
   "source": [
   ]
  }
 ],
 "metadata": {
  "kernelspec": {
   "display_name": "Python 3 (system-wide)",
   "language": "python",
   "metadata": {
    "cocalc": {
     "description": "Python 3 programming language",
     "priority": 100,
     "url": "https://www.python.org/"
    }
   },
   "name": "python3",
   "resource_dir": "/ext/jupyter/kernels/python3"
  },
  "language_info": {
   "codemirror_mode": {
    "name": "ipython",
    "version": 3
   },
   "file_extension": ".py",
   "mimetype": "text/x-python",
   "name": "python",
   "nbconvert_exporter": "python",
   "pygments_lexer": "ipython3",
   "version": "3.8.5"
  }
 },
 "nbformat": 4,
 "nbformat_minor": 4
}