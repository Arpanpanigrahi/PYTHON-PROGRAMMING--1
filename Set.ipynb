{
 "cells": [
  {
   "cell_type": "code",
   "execution_count": 5,
   "metadata": {
    "cocalc": {
     "outputs": {
      "0": {
       "name": "input",
       "opts": {
        "password": false,
        "prompt": ""
       },
       "output_type": "stream",
       "value": "10"
      },
      "1": {
       "name": "input",
       "opts": {
        "password": false,
        "prompt": ""
       },
       "output_type": "stream",
       "value": "161"
      }
     }
    },
    "collapsed": false
   },
   "outputs": [
    {
     "name": "stdout",
     "output_type": "stream",
     "text": " 10"
    },
    {
     "name": "stdout",
     "output_type": "stream",
     "text": " 161"
    },
    {
     "name": "stdout",
     "output_type": "stream",
     "text": [
      "161.0\n"
     ]
    }
   ],
   "source": [
    "#Q1.\n",
    "#NAME:ARPAN PANIGRAHI\n",
    "#SICNO:180310197\n",
    "\n",
    "def average(array):\n",
    "    dist = set(array)\n",
    "    return sum(dist)/len(dist)\n",
    "    \n",
    "if __name__ == '__main__':\n",
    "    n = int(input())\n",
    "    arr = list(map(int, input().split()))\n",
    "    result = average(arr)\n",
    "    print(result)"
   ]
  },
  {
   "cell_type": "code",
   "execution_count": 3,
   "metadata": {
    "cocalc": {
     "outputs": {
      "0": {
       "name": "input",
       "opts": {
        "password": false,
        "prompt": ""
       },
       "output_type": "stream",
       "value": "10"
      },
      "1": {
       "name": "input",
       "opts": {
        "password": false,
        "prompt": ""
       },
       "output_type": "stream",
       "value": "1"
      },
      "2": {
       "name": "input",
       "opts": {
        "password": false,
        "prompt": ""
       },
       "output_type": "stream",
       "value": "2"
      },
      "3": {
       "name": "input",
       "opts": {
        "password": false,
        "prompt": ""
       },
       "output_type": "stream",
       "value": "3"
      }
     }
    },
    "collapsed": false
   },
   "outputs": [
    {
     "name": "stdout",
     "output_type": "stream",
     "text": " 10"
    },
    {
     "name": "stdout",
     "output_type": "stream",
     "text": " 1"
    },
    {
     "name": "stdout",
     "output_type": "stream",
     "text": " 2"
    },
    {
     "name": "stdout",
     "output_type": "stream",
     "text": " 3"
    },
    {
     "name": "stdout",
     "output_type": "stream",
     "text": [
      "2\n"
     ]
    }
   ],
   "source": [
    "#Q2.\n",
    "#NAME:ARPAN PANIGRAHI\n",
    "#SICNO:180310197\n",
    "\n",
    "n, set_n, b, set_b = int(input()), set(input().split()), int(input()), set(input().split())\n",
    "print(len(set_n.union(set_b)))"
   ]
  },
  {
   "cell_type": "code",
   "execution_count": 7,
   "metadata": {
    "cocalc": {
     "outputs": {
      "0": {
       "name": "input",
       "opts": {
        "password": false,
        "prompt": ""
       },
       "output_type": "stream",
       "value": "16"
      },
      "1": {
       "name": "input",
       "opts": {
        "password": false,
        "prompt": ""
       },
       "output_type": "stream",
       "value": "1"
      },
      "2": {
       "name": "input",
       "opts": {
        "password": false,
        "prompt": ""
       },
       "output_type": "stream",
       "value": "2"
      },
      "3": {
       "name": "input",
       "opts": {
        "password": false,
        "prompt": ""
       },
       "output_type": "stream",
       "value": "3"
      },
      "4": {
       "name": "input",
       "opts": {
        "password": false,
        "prompt": ""
       },
       "output_type": "stream",
       "value": "4"
      },
      "5": {
       "name": "input",
       "opts": {
        "password": false,
        "prompt": ""
       },
       "output_type": "stream",
       "value": "5"
      },
      "6": {
       "name": "input",
       "opts": {
        "password": false,
        "prompt": ""
       },
       "output_type": "stream",
       "value": "6"
      }
     }
    },
    "collapsed": false
   },
   "outputs": [
    {
     "name": "stdout",
     "output_type": "stream",
     "text": " 16"
    },
    {
     "name": "stdout",
     "output_type": "stream",
     "text": " 1"
    },
    {
     "name": "stdout",
     "output_type": "stream",
     "text": " 2"
    },
    {
     "name": "stdout",
     "output_type": "stream",
     "text": " 3"
    },
    {
     "name": "stdout",
     "output_type": "stream",
     "text": " 4"
    },
    {
     "name": "stdout",
     "output_type": "stream",
     "text": " 5"
    },
    {
     "name": "stdout",
     "output_type": "stream",
     "text": " 6"
    },
    {
     "name": "stdout",
     "output_type": "stream",
     "text": [
      "1\n"
     ]
    }
   ],
   "source": [
    "#Q3.\n",
    "#NAME:ARPAN PANIGRAHI\n",
    "#SICNO:180310197\n",
    "\n",
    "n, set_A = int(input()), set(input().split())\n",
    "for _ in range(int(input())):\n",
    "    op, set_B = input().split(), input().split()\n",
    "    if op[0] == 'intersection_update':\n",
    "        set_A.intersection_update(set_B)\n",
    "    elif op[0] == 'difference_update':\n",
    "        set_A.difference_update(set_B)\n",
    "    elif op[0] == 'symmetric_difference_update':\n",
    "        set_A.symmetric_difference_update(set_B)\n",
    "    elif op[0] == 'update':\n",
    "        set_A.update(set_B)\n",
    "print(sum(map(int, set_A)))\n"
   ]
  },
  {
   "cell_type": "code",
   "execution_count": 0,
   "metadata": {
    "collapsed": false
   },
   "outputs": [
   ],
   "source": [
   ]
  }
 ],
 "metadata": {
  "kernelspec": {
   "display_name": "Python 3 (system-wide)",
   "language": "python",
   "metadata": {
    "cocalc": {
     "description": "Python 3 programming language",
     "priority": 100,
     "url": "https://www.python.org/"
    }
   },
   "name": "python3",
   "resource_dir": "/ext/jupyter/kernels/python3"
  },
  "language_info": {
   "codemirror_mode": {
    "name": "ipython",
    "version": 3
   },
   "file_extension": ".py",
   "mimetype": "text/x-python",
   "name": "python",
   "nbconvert_exporter": "python",
   "pygments_lexer": "ipython3",
   "version": "3.8.5"
  }
 },
 "nbformat": 4,
 "nbformat_minor": 4
}