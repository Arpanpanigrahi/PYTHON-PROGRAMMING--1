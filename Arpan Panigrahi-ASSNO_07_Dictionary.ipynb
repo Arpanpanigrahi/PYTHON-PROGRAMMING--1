{
 "cells": [
  {
   "cell_type": "code",
   "execution_count": 2,
   "metadata": {
    "cocalc": {
     "outputs": {
      "0": {
       "name": "input",
       "opts": {
        "password": false,
        "prompt": "Enter a month such as January :"
       },
       "output_type": "stream",
       "value": "June"
      }
     }
    },
    "collapsed": false
   },
   "outputs": [
    {
     "name": "stdout",
     "output_type": "stream",
     "text": "Enter a month such as January : June"
    },
    {
     "name": "stdout",
     "output_type": "stream",
     "text": [
      "Number of months in June is 30\n",
      "['April', 'August', 'December', 'February', 'January', 'July', 'June', 'March', 'May', 'November', 'October', 'September']\n",
      "January March May July August October December \n",
      "[('February', 28), ('April', 30), ('June', 30), ('November', 30), ('September', 30), ('August', 31), ('December', 31), ('January', 31), ('July', 31), ('March', 31), ('May', 31), ('October', 31)]\n"
     ]
    }
   ],
   "source": [
    "#1.Create a Dictionary whose keys are months name and whose values are the number of days in the corresponding months.\n",
    "#a) Ask the user to enter a month name and use the Dictionary to tell them how many days are in the month.\n",
    "#b) print out all of the keys in alphabetical order.\n",
    "#c) print out all of the months with 31 days.\n",
    "#d) print out the (key value) pairs sorted by number of days in each months.\n",
    "#NAME: ARPAN PANIGRAHI\n",
    "#SICNO: 180310197\n",
    "\n",
    "mo = {'January':31,'February':28,'March':31,'April':30,'May':31,'June':30,'July':31,'August':31,'September':30,'October':31,'November':30,'December':31}\n",
    "\n",
    "#a)\n",
    "m = input('Enter a month such as January :')\n",
    "print('Number of months in', m, 'is', mo.get(m.strip(),'Enter again'))\n",
    "\n",
    "#b)\n",
    "print(sorted(mo))\n",
    "\n",
    "#c)\n",
    "for i in mo:\n",
    "    if mo[i] == 31:\n",
    "        print(i, end=' ')\n",
    "print()\n",
    "\n",
    "#d)\n",
    "v = sorted([(i, j) for j, i in mo.items()])\n",
    "print([(j,i) for i, j in v])\n"
   ]
  },
  {
   "cell_type": "code",
   "execution_count": 9,
   "metadata": {
    "cocalc": {
     "outputs": {
      "0": {
       "name": "input",
       "opts": {
        "password": false,
        "prompt": "Insert Number of Teams: "
       },
       "output_type": "stream",
       "value": "2"
      },
      "1": {
       "name": "input",
       "opts": {
        "password": false,
        "prompt": "Team Name: "
       },
       "output_type": "stream",
       "value": "India"
      },
      "10": {
       "name": "input",
       "opts": {
        "password": false,
        "prompt": "\nEnter a team name to know the winning percentage: "
       },
       "output_type": "stream"
      },
      "2": {
       "name": "input",
       "opts": {
        "password": false,
        "prompt": "Wins: "
       },
       "output_type": "stream",
       "value": "20"
      },
      "3": {
       "name": "input",
       "opts": {
        "password": false,
        "prompt": "Losses: "
       },
       "output_type": "stream",
       "value": "4"
      },
      "4": {
       "name": "input",
       "opts": {
        "password": false,
        "prompt": "Team Name: "
       },
       "output_type": "stream",
       "value": "Pakistan"
      },
      "5": {
       "name": "input",
       "opts": {
        "password": false,
        "prompt": "Wins: "
       },
       "output_type": "stream",
       "value": "7"
      },
      "6": {
       "name": "input",
       "opts": {
        "password": false,
        "prompt": "Losses: "
       },
       "output_type": "stream",
       "value": "14"
      },
      "8": {
       "name": "input",
       "opts": {
        "password": false,
        "prompt": "\nEnter a team name to know the winning percentage: "
       },
       "output_type": "stream",
       "value": "India"
      }
     }
    },
    "collapsed": false
   },
   "outputs": [
    {
     "name": "stdout",
     "output_type": "stream",
     "text": "Insert Number of Teams:  2"
    },
    {
     "name": "stdout",
     "output_type": "stream",
     "text": "Team Name:  India"
    },
    {
     "name": "stdout",
     "output_type": "stream",
     "text": "Wins:  20"
    },
    {
     "name": "stdout",
     "output_type": "stream",
     "text": "Losses:  4"
    },
    {
     "name": "stdout",
     "output_type": "stream",
     "text": "Team Name:  Pakistan"
    },
    {
     "name": "stdout",
     "output_type": "stream",
     "text": "Wins:  7"
    },
    {
     "name": "stdout",
     "output_type": "stream",
     "text": "Losses:  14"
    },
    {
     "name": "stdout",
     "output_type": "stream",
     "text": [
      "\n",
      "Entered dictionary:  {'India': [20, 4], 'Pakistan': [7, 14]}\n",
      "List of wins of all teams:  [20, 7]\n",
      "List of all teams that have winning records:  ['India']\n"
     ]
    },
    {
     "name": "stdout",
     "output_type": "stream",
     "text": "\nEnter a team name to know the winning percentage:  India"
    },
    {
     "name": "stdout",
     "output_type": "stream",
     "text": [
      "Total Number of Matches played by  India  :  24\n",
      "Winning percentage of  India  :  83.33 %\n"
     ]
    },
    {
     "name": "stdout",
     "output_type": "stream",
     "text": "\nEnter a team name to know the winning percentage:  "
    }
   ],
   "source": [
    "#2.Repeatedly are the user to enter a team name and how many games the team has own and how many they lost.\n",
    "#Store the information  in a dictionary where the keys are the team names and the values are list of the  form [wins, losses]\n",
    "#(a)Using the dictionary created above, allow the user to enter a team name and printout the team’s winning percentage.\n",
    "#(b)Using the dictionary, create a list whose entries are the member of wins of each team.\n",
    "#(c)Using the dictionary create a list of all  those team’s that having winning records.\n",
    "#NAME: ARPAN PANIGRAHI\n",
    "#SIC NO: 180310197\n",
    "\n",
    "team_dict ={}\n",
    "winningList=[]\n",
    "winningTeam=[]\n",
    "\n",
    "numofTeams=int(input(\"Insert Number of Teams: \"))\n",
    "\n",
    "for x in range(numofTeams):\n",
    " teamName=input('Team Name: ')\n",
    " winLossList=[]\n",
    " wins = int(input('Wins: '))\n",
    " winningList.append(wins)\n",
    " losses=int(input('Losses: '))\n",
    " if(wins>losses):\n",
    "  winningTeam.append(teamName)\n",
    " \n",
    " winLossList.append(wins)\n",
    " winLossList.append(losses)\n",
    " team_dict[teamName] = winLossList\n",
    "\n",
    "print(\"\\nEntered dictionary: \", team_dict)\n",
    "print('List of wins of all teams: ', winningList)\n",
    "print(\"List of all teams that have winning records: \", winningTeam)\n",
    "\n",
    "\n",
    "while True:\n",
    " \n",
    " team=input(\"\\nEnter a team name to know the winning percentage: \")\n",
    " if team in team_dict:\n",
    "  total_number_of_matches=sum(team_dict[team])\n",
    "  print('Total Number of Matches played by ', team,' : ', total_number_of_matches)\n",
    "  winsVsLoss=team_dict[team]\n",
    "  winning_percentage=(float(winsVsLoss[0])/float(total_number_of_matches))*100 \n",
    "  print(\"Winning percentage of \",team,\" : \",\"{0:.2f}\".format(winning_percentage),\"%\")\n",
    " else:\n",
    "  print(\"the key doesnt exist\")"
   ]
  },
  {
   "cell_type": "code",
   "execution_count": 0,
   "metadata": {
    "collapsed": false
   },
   "outputs": [
   ],
   "source": [
    "#3.Problem Description: Given below is a Dictionary customer_details representing customer Details from Retail Application - Customer Id is key and Customer Name is value.\n",
    "#customer_details = { 1001 : \"John\", 1004 : \"Jill\", 1005: \"Joe\", 1003 : \"Jack\" }\n",
    "#Write Python code to perform below mentioned operations: a. Print details of Customers b. Print number of Customers c. Print Customer names in ascending order d. Delete the #details of customer with customer id = 1005 and print updated dictionary e. Update the name of customer with customer id = 1003 to “Mary” and print updated dictionary f. Check #whether details of customer with customer id 1002 exists in the dictionary.\n",
    "#NAME: ARPAN PANIGRAHI\n",
    "#SIC NO:180310197\n",
    "\n",
    "customer_details = { 1001 : \"John\", 1004 : \"Jill\", 1005: \"Joe\", 1003 : \"Jack\" }\n",
    "\n",
    "print(\"1.\",customer_details)\n",
    "\n",
    "print(\"2.\",len(customer_details))\n",
    "\n",
    "print(\"3.\",sorted(customer_details.values()))\n",
    "\n",
    "del(customer_details[1005]) \n",
    "print(\"4.\",customer_details)\n",
    "\n",
    "customer_details[1003] = \"Mary\" \n",
    "print(\"5.\",customer_details)\n",
    "\n",
    "print(\"6.\",1002 in customer_details)"
   ]
  },
  {
   "cell_type": "code",
   "execution_count": 0,
   "metadata": {
    "collapsed": false
   },
   "outputs": [
   ],
   "source": [
   ]
  }
 ],
 "metadata": {
  "kernelspec": {
   "display_name": "Python 3 (system-wide)",
   "language": "python",
   "metadata": {
    "cocalc": {
     "description": "Python 3 programming language",
     "priority": 100,
     "url": "https://www.python.org/"
    }
   },
   "name": "python3",
   "resource_dir": "/ext/jupyter/kernels/python3"
  },
  "language_info": {
   "codemirror_mode": {
    "name": "ipython",
    "version": 3
   },
   "file_extension": ".py",
   "mimetype": "text/x-python",
   "name": "python",
   "nbconvert_exporter": "python",
   "pygments_lexer": "ipython3",
   "version": "3.8.5"
  }
 },
 "nbformat": 4,
 "nbformat_minor": 4
}