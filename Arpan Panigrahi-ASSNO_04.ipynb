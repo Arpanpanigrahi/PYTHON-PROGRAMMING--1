{
 "cells": [
  {
   "cell_type": "code",
   "execution_count": 1,
   "metadata": {
    "cocalc": {
     "outputs": {
      "0": {
       "name": "input",
       "opts": {
        "password": false,
        "prompt": "What's your name?"
       },
       "output_type": "stream",
       "value": "Arpan"
      }
     }
    },
    "collapsed": false
   },
   "outputs": [
    {
     "name": "stdout",
     "output_type": "stream",
     "text": "What's your name? Arpan"
    },
    {
     "name": "stdout",
     "output_type": "stream",
     "text": [
      "Arpan\n",
      "Arpan\n",
      "Arpan\n",
      "Arpan\n",
      "Arpan\n",
      "Arpan\n",
      "Arpan\n",
      "Arpan\n",
      "Arpan\n",
      "Arpan\n",
      "\n"
     ]
    }
   ],
   "source": [
    "# QNO:1. Write a Python program that will print your name 10 times\n",
    "# NAME: ARPAN PANIGRAHI\n",
    "# SIC NO: 180310197\n",
    "\n",
    "name = input(\"What's your name?\")\n",
    "print(10 * (name + '\\n')) "
   ]
  },
  {
   "cell_type": "code",
   "execution_count": 1,
   "metadata": {
    "collapsed": false
   },
   "outputs": [
    {
     "name": "stdout",
     "output_type": "stream",
     "text": [
      "1 2 3 4 5 6 7 8 9 10 "
     ]
    }
   ],
   "source": [
    "# QNO:2 Write a Python program that will print 1 2 3 4 5 6 7 8 9 10\n",
    "# NAME: ARPAN PANIGRAHI\n",
    "# SIC NO: 180310197\n",
    "\n",
    "for  i in range(1,11):\n",
    "    print(i,end=\" \")\n"
   ]
  },
  {
   "cell_type": "code",
   "execution_count": 7,
   "metadata": {
    "cocalc": {
     "outputs": {
      "0": {
       "name": "input",
       "opts": {
        "password": false,
        "prompt": "Enter the value of m:"
       },
       "output_type": "stream",
       "value": "5"
      },
      "1": {
       "name": "input",
       "opts": {
        "password": false,
        "prompt": "Enter the value of n:"
       },
       "output_type": "stream",
       "value": "15"
      }
     }
    },
    "collapsed": false
   },
   "outputs": [
    {
     "name": "stdout",
     "output_type": "stream",
     "text": "Enter the value of m: 5"
    },
    {
     "name": "stdout",
     "output_type": "stream",
     "text": "Enter the value of n: 15"
    },
    {
     "name": "stdout",
     "output_type": "stream",
     "text": [
      "5\n",
      "6\n",
      "7\n",
      "8\n",
      "9\n",
      "10\n",
      "11\n",
      "12\n",
      "13\n",
      "14\n",
      "15\n"
     ]
    }
   ],
   "source": [
    "# QNO:3. Write a Python program that will print the number between m and n\n",
    "# NAME: ARPAN PANIGRAHI\n",
    "# SIC NO: 180310197\n",
    "\n",
    "m = int(input(\"Enter the value of m:\"))\n",
    "n = int(input(\"Enter the value of n:\"))  \n",
    "for num in range(m, n+1): \n",
    "    print(num) "
   ]
  },
  {
   "cell_type": "code",
   "execution_count": 8,
   "metadata": {
    "cocalc": {
     "outputs": {
      "0": {
       "name": "input",
       "opts": {
        "password": false,
        "prompt": "Enter the value of m:"
       },
       "output_type": "stream",
       "value": "5"
      },
      "1": {
       "name": "input",
       "opts": {
        "password": false,
        "prompt": "Enter the value of n:"
       },
       "output_type": "stream",
       "value": "15"
      }
     }
    },
    "collapsed": false
   },
   "outputs": [
    {
     "name": "stdout",
     "output_type": "stream",
     "text": "Enter the value of m: 5"
    },
    {
     "name": "stdout",
     "output_type": "stream",
     "text": "Enter the value of n: 15"
    },
    {
     "name": "stdout",
     "output_type": "stream",
     "text": [
      "5\n",
      "7\n",
      "9\n",
      "11\n",
      "13\n",
      "15\n"
     ]
    }
   ],
   "source": [
    "# QNO:4 Write a Python program that will print all odd number between m and n\n",
    "# NAME: ARPAN PANIGRAHI\n",
    "# SIC NO: 180310197\n",
    "\n",
    "m = int(input(\"Enter the value of m:\"))\n",
    "n = int(input(\"Enter the value of n:\"))\n",
    "for i in range(m,n+1):\n",
    "    if(i%2!=0):\n",
    "        print(i)"
   ]
  },
  {
   "cell_type": "code",
   "execution_count": 2,
   "metadata": {
    "cocalc": {
     "outputs": {
      "0": {
       "name": "input",
       "opts": {
        "password": false,
        "prompt": "Enter the value of m:"
       },
       "output_type": "stream",
       "value": "9"
      },
      "1": {
       "name": "input",
       "opts": {
        "password": false,
        "prompt": "Enter the value of n:"
       },
       "output_type": "stream",
       "value": "-9"
      }
     }
    },
    "collapsed": false
   },
   "outputs": [
    {
     "name": "stdout",
     "output_type": "stream",
     "text": "Enter the value of m: 9"
    }
   ],
   "source": [
    "# QNO:5 Write a Python program that will print 9  7  5  3   1  -1  -3  -5  -7  -9\n",
    "# NAME: ARPAN PANIGRAHI\n",
    "# SIC NO: 180310197\n",
    "\n",
    "for i in range(9,-10,-2):\n",
    "    print(i,end=\" \")\n"
   ]
  },
  {
   "cell_type": "code",
   "execution_count": 14,
   "metadata": {
    "cocalc": {
     "outputs": {
      "0": {
       "name": "input",
       "opts": {
        "password": false,
        "prompt": "Enter the number of terms: "
       },
       "output_type": "stream",
       "value": "9"
      }
     }
    },
    "collapsed": false
   },
   "outputs": [
    {
     "name": "stdout",
     "output_type": "stream",
     "text": "Enter the number of terms:  9"
    },
    {
     "name": "stdout",
     "output_type": "stream",
     "text": [
      "The sum of series is 2.83\n"
     ]
    }
   ],
   "source": [
    "# QNO:6 Write a Python program that will print sum of the following series Sum = 1+ 1/2 + 1/3 + …..1/n\n",
    "# NAME: ARPAN PANIGRAHI\n",
    "# SIC NO: 180310197\n",
    "\n",
    "n=int(input(\"Enter the number of terms: \"))\n",
    "sum1=0\n",
    "for i in range(1,n+1):\n",
    "    sum1=sum1+(1/i)\n",
    "print(\"The sum of series is\",round(sum1,2))\n"
   ]
  },
  {
   "cell_type": "code",
   "execution_count": 15,
   "metadata": {
    "cocalc": {
     "outputs": {
      "0": {
       "name": "input",
       "opts": {
        "password": false,
        "prompt": "Enter n : "
       },
       "output_type": "stream",
       "value": "9"
      }
     }
    },
    "collapsed": false
   },
   "outputs": [
    {
     "name": "stdout",
     "output_type": "stream",
     "text": "Enter n :  9"
    },
    {
     "name": "stdout",
     "output_type": "stream",
     "text": [
      "1.7182815255731925\n"
     ]
    }
   ],
   "source": [
    "# QNO:7 Write a Python program that will print sum of the following series Sum = 1+ 1/2! + 1/3! + …..1/n!\n",
    "# NAME: ARPAN PANIGRAHI\n",
    "# SIC NO: 180310197\n",
    "\n",
    "n = int(input(\"Enter n : \"))\n",
    "sum = 0;\n",
    "prod = 1\n",
    "for i in range(1, n+1):\n",
    "    prod = prod * (1/i)\n",
    "    sum += prod\n",
    "print(sum)\n"
   ]
  },
  {
   "cell_type": "code",
   "execution_count": 16,
   "metadata": {
    "cocalc": {
     "outputs": {
      "0": {
       "name": "input",
       "opts": {
        "password": false,
        "prompt": "Enter the value of x:"
       },
       "output_type": "stream",
       "value": "5"
      },
      "1": {
       "name": "input",
       "opts": {
        "password": false,
        "prompt": "Enter the value of n:"
       },
       "output_type": "stream",
       "value": "8"
      }
     }
    },
    "collapsed": false
   },
   "outputs": [
    {
     "name": "stdout",
     "output_type": "stream",
     "text": "Enter the value of x: 5"
    },
    {
     "name": "stdout",
     "output_type": "stream",
     "text": "Enter the value of n: 8"
    },
    {
     "name": "stdout",
     "output_type": "stream",
     "text": [
      "63434.42\n"
     ]
    }
   ],
   "source": [
    "# QNO:8. Write a Python program that will print sum of the following series \n",
    "# e^x = 1+ x + x^2/2! +x^3/3! …..x^n/n!                    '\n",
    "# NAME: ARPAN PANIGRAHI\n",
    "# SIC NO: 180310197\n",
    "\n",
    "def SUM(x, n): \n",
    "    total = 1\n",
    "    for i in range(1, n + 1): \n",
    "        total = total + ((x**i)/i) \n",
    "    return total  \n",
    "x = int(input(\"Enter the value of x:\"))\n",
    "n = int(input(\"Enter the value of n:\"))\n",
    "s = SUM(x, n) \n",
    "print(round(s, 2))\n"
   ]
  },
  {
   "cell_type": "code",
   "execution_count": 4,
   "metadata": {
    "cocalc": {
     "outputs": {
      "0": {
       "name": "input",
       "opts": {
        "password": false,
        "prompt": "Enter the value of n"
       },
       "output_type": "stream",
       "value": "5"
      },
      "1": {
       "name": "input",
       "opts": {
        "password": false,
        "prompt": "Enter the value of X"
       },
       "output_type": "stream",
       "value": "2"
      }
     }
    },
    "collapsed": false
   },
   "outputs": [
    {
     "name": "stdout",
     "output_type": "stream",
     "text": "Enter the value of n 5"
    },
    {
     "name": "stdout",
     "output_type": "stream",
     "text": "Enter the value of X 2"
    },
    {
     "name": "stdout",
     "output_type": "stream",
     "text": [
      "The value is 0.9333333333333333\n"
     ]
    }
   ],
   "source": [
    "# QNO:9. Write a Python program that will read x and compute sin(x)\n",
    "# NAME: ARPAN PANIGRAHI\n",
    "# SIC NO: 180310197\n",
    "\n",
    "n = int(input(\"Enter the value of n\"))\n",
    "x = int(input(\"Enter the value of X\"))\n",
    "sum = x\n",
    "c =0\n",
    "fact = 1\n",
    "x_prod = x\n",
    "\n",
    "\n",
    "for i in range(3,n+1,2):\n",
    "    \n",
    "    x_prod *= (x*x) \n",
    "    fact *= ((i-1)* i) \n",
    "    \n",
    "    if c%2==0:\n",
    "        sum -= x_prod/fact\n",
    "    else:\n",
    "        sum += x_prod/fact\n",
    "    c +=1\n",
    "print(\"The value is\",sum)"
   ]
  },
  {
   "cell_type": "code",
   "execution_count": 5,
   "metadata": {
    "cocalc": {
     "outputs": {
      "0": {
       "name": "input",
       "opts": {
        "password": false,
        "prompt": "Enter the value of n"
       },
       "output_type": "stream",
       "value": "9"
      },
      "1": {
       "name": "input",
       "opts": {
        "password": false,
        "prompt": "Enter the value of X"
       },
       "output_type": "stream",
       "value": "2"
      }
     }
    },
    "collapsed": false
   },
   "outputs": [
    {
     "name": "stdout",
     "output_type": "stream",
     "text": "Enter the value of n 9"
    },
    {
     "name": "stdout",
     "output_type": "stream",
     "text": "Enter the value of X 2"
    },
    {
     "name": "stdout",
     "output_type": "stream",
     "text": [
      "The value is -0.41587301587301595\n"
     ]
    }
   ],
   "source": [
    "# QNO:10. Write a Python program that will read x and compute cos(x)\n",
    "# NAME: ARPAN PANIGRAHI\n",
    "# SIC NO: 180310197\n",
    "\n",
    "n = int(input(\"Enter the value of n\"))\n",
    "x = int(input(\"Enter the value of X\"))\n",
    "sum = 1\n",
    "c =0\n",
    "fact = 1\n",
    "x_prod = 1\n",
    "\n",
    "\n",
    "for i in range(2,n+1,2):\n",
    "    \n",
    "    x_prod *= (x*x) \n",
    "    fact *= ((i-1)* i) \n",
    "    \n",
    "    if c%2==0:\n",
    "        sum -= x_prod/fact\n",
    "    else:\n",
    "        sum += x_prod/fact\n",
    "    c +=1\n",
    "print(\"The value is\",sum)"
   ]
  },
  {
   "cell_type": "code",
   "execution_count": 6,
   "metadata": {
    "cocalc": {
     "outputs": {
      "0": {
       "name": "input",
       "opts": {
        "password": false,
        "prompt": "Enter the number"
       },
       "output_type": "stream",
       "value": "52"
      }
     }
    },
    "collapsed": false
   },
   "outputs": [
    {
     "name": "stdout",
     "output_type": "stream",
     "text": "Enter the number 52"
    },
    {
     "name": "stdout",
     "output_type": "stream",
     "text": [
      "It is a composite number\n"
     ]
    }
   ],
   "source": [
    "# QNO:11 Write a Python program that will check the number is prime or composite.\n",
    "# NAME: ARPAN PANIGRAHI\n",
    "# SIC NO: 180310197\n",
    "\n",
    "num = int(input(\"Enter the number\"))\n",
    "c =0\n",
    "\n",
    "for i in range(2,num+1):\n",
    "    if num % i == 0:\n",
    "        \n",
    "        c += 1\n",
    "        if c > 2:\n",
    "            break\n",
    "if c==1:\n",
    "    print(\"It is a Prime Number\")\n",
    "else:\n",
    "    print(\"It is a composite number\")\n"
   ]
  },
  {
   "cell_type": "code",
   "execution_count": 22,
   "metadata": {
    "cocalc": {
     "outputs": {
      "0": {
       "name": "input",
       "opts": {
        "password": false,
        "prompt": "Enter first number: "
       },
       "output_type": "stream",
       "value": "8"
      },
      "1": {
       "name": "input",
       "opts": {
        "password": false,
        "prompt": "Enter second number: "
       },
       "output_type": "stream",
       "value": "12"
      }
     }
    },
    "collapsed": false
   },
   "outputs": [
    {
     "name": "stdout",
     "output_type": "stream",
     "text": "Enter first number:  8"
    },
    {
     "name": "stdout",
     "output_type": "stream",
     "text": "Enter second number:  12"
    },
    {
     "name": "stdout",
     "output_type": "stream",
     "text": [
      "GCD of 8 and 12 is 4\n",
      "LCM of 8 and 12 is 24\n"
     ]
    }
   ],
   "source": [
    "# QNO:12. Write a Python program that will read two integers and compute GCD and LCM.\n",
    "# NAME: ARPAN PANIGRAHI\n",
    "# SIC NO: 180310197\n",
    "\n",
    "def find_gcd(a,b):\n",
    "    gcd = 1\n",
    "    for i in range(1,a+1):\n",
    "        if a%i==0 and b%i==0:\n",
    "           gcd = i\n",
    "    return gcd\n",
    "first = int(input('Enter first number: '))\n",
    "second = int(input('Enter second number: '))\n",
    "print('GCD of %d and %d is %d' %(first, second, find_gcd(first, second)))\n",
    "lcm = first * second / find_gcd(first, second)\n",
    "print('LCM of %d and %d is %d' %(first, second, lcm))\n"
   ]
  },
  {
   "cell_type": "code",
   "execution_count": 25,
   "metadata": {
    "cocalc": {
     "outputs": {
      "0": {
       "name": "input",
       "opts": {
        "password": false,
        "prompt": "ENTER THE VALUE OF X : "
       },
       "output_type": "stream",
       "value": "154983"
      }
     }
    },
    "collapsed": false
   },
   "outputs": [
    {
     "name": "stdout",
     "output_type": "stream",
     "text": "ENTER THE VALUE OF X :  154983"
    },
    {
     "name": "stdout",
     "output_type": "stream",
     "text": [
      "6\n"
     ]
    }
   ],
   "source": [
    "# QNO:13. Write a Python program that read an integer and print the number of digit.\n",
    "# NAME: ARPAN PANIGRAHI\n",
    "# SIC NO: 180310197\n",
    "\n",
    "n = int(input(\"ENTER THE VALUE OF X : \"))\n",
    "nd = 0\n",
    "while(n > 0):\n",
    "    d = n % 10\n",
    "    nd = nd + 1\n",
    "    n = n // 10\n",
    "print(nd)"
   ]
  },
  {
   "cell_type": "code",
   "execution_count": 26,
   "metadata": {
    "cocalc": {
     "outputs": {
      "0": {
       "name": "input",
       "opts": {
        "password": false,
        "prompt": "Input a four digit numbers: "
       },
       "output_type": "stream",
       "value": "3456"
      }
     }
    },
    "collapsed": false
   },
   "outputs": [
    {
     "name": "stdout",
     "output_type": "stream",
     "text": "Input a four digit numbers:  3456"
    },
    {
     "name": "stdout",
     "output_type": "stream",
     "text": [
      "The sum of digits in the number is 18\n"
     ]
    }
   ],
   "source": [
    "# QNO:14. Write a Python program that will read a number and compute sum of the digit'\n",
    "# Ex: let num= 3456 output should be 18\n",
    "# NAME: ARPAN PANIGRAHI\n",
    "# SIC NO: 180310197\n",
    "\n",
    "num = int(input(\"Input a four digit numbers: \"))\n",
    "x  = num //1000\n",
    "x1 = (num - x*1000)//100\n",
    "x2 = (num - x*1000 - x1*100)//10\n",
    "x3 = num - x*1000 - x1*100 - x2*10\n",
    "print(\"The sum of digits in the number is\", x+x1+x2+x3)\n"
   ]
  },
  {
   "cell_type": "code",
   "execution_count": 27,
   "metadata": {
    "cocalc": {
     "outputs": {
      "0": {
       "name": "input",
       "opts": {
        "password": false,
        "prompt": "Please Enter any Number: "
       },
       "output_type": "stream",
       "value": "3456"
      }
     }
    },
    "collapsed": false
   },
   "outputs": [
    {
     "name": "stdout",
     "output_type": "stream",
     "text": "Please Enter any Number:  3456"
    },
    {
     "name": "stdout",
     "output_type": "stream",
     "text": [
      "\n",
      " Reverse of entered number is = 6543\n"
     ]
    }
   ],
   "source": [
    "# QNO:15. Write a Python program that will reverse an integer\n",
    "# i.e num =3456 reverse num=6543\n",
    "# NAME: ARPAN PANIGRAHI\n",
    "# SIC NO: 180310197\n",
    "\n",
    "Number = int(input(\"Please Enter any Number: \"))\n",
    "Reverse = 0\n",
    "while(Number > 0):\n",
    "    Reminder = Number %10\n",
    "    Reverse = (Reverse *10) + Reminder\n",
    "    Number = Number //10\n",
    "\n",
    "print(\"\\n Reverse of entered number is = %d\" %Reverse)\n",
    "\n"
   ]
  },
  {
   "cell_type": "code",
   "execution_count": 28,
   "metadata": {
    "cocalc": {
     "outputs": {
      "0": {
       "name": "input",
       "opts": {
        "password": false,
        "prompt": "Enter number:"
       },
       "output_type": "stream",
       "value": "12321"
      }
     }
    },
    "collapsed": false
   },
   "outputs": [
    {
     "name": "stdout",
     "output_type": "stream",
     "text": "Enter number: 12321"
    },
    {
     "name": "stdout",
     "output_type": "stream",
     "text": [
      "The number is a palindrome!\n"
     ]
    }
   ],
   "source": [
    "# QNO:16. Write a Python program that will check a number is palindrome or not.\n",
    "# i.e 12321 is a palindrome\n",
    "# NAME: ARPAN PANIGRAHI\n",
    "# SIC NO: 180310197\n",
    "\n",
    "n=int(input(\"Enter number:\"))\n",
    "temp=n\n",
    "rev=0\n",
    "while(n>0):\n",
    "    dig=n%10\n",
    "    rev=rev*10+dig\n",
    "    n=n//10\n",
    "if(temp==rev):\n",
    "    print(\"The number is a palindrome!\")\n",
    "else:\n",
    "    print(\"The number isn't a palindrome!\")\n"
   ]
  },
  {
   "cell_type": "code",
   "execution_count": 29,
   "metadata": {
    "cocalc": {
     "outputs": {
      "0": {
       "name": "input",
       "opts": {
        "password": false,
        "prompt": "How many terms? "
       },
       "output_type": "stream",
       "value": "9"
      }
     }
    },
    "collapsed": false
   },
   "outputs": [
    {
     "name": "stdout",
     "output_type": "stream",
     "text": "How many terms?  9"
    },
    {
     "name": "stdout",
     "output_type": "stream",
     "text": [
      "Fibonacci sequence:\n",
      "0\n",
      "1\n",
      "1\n",
      "2\n",
      "3\n",
      "5\n",
      "8\n",
      "13\n",
      "21\n"
     ]
    }
   ],
   "source": [
    "# QNO:17. Write a python program to find the Fibonacci series up to nth term.\n",
    "# NAME: ARPAN PANIGRAHI\n",
    "# SIC NO: 180310197\n",
    "\n",
    "nterms = int(input(\"How many terms? \"))\n",
    "n1, n2 = 0, 1\n",
    "count = 0\n",
    "if nterms <= 0:\n",
    "   print(\"Please enter a positive integer\")\n",
    "elif nterms == 1:\n",
    "   print(\"Fibonacci sequence upto\",nterms,\":\")\n",
    "   print(n1)\n",
    "else:\n",
    "   print(\"Fibonacci sequence:\")\n",
    "   while count < nterms:\n",
    "       print(n1)\n",
    "       nth = n1 + n2\n",
    "       n1 = n2\n",
    "       n2 = nth\n",
    "       count += 1\n"
   ]
  },
  {
   "cell_type": "code",
   "execution_count": 30,
   "metadata": {
    "cocalc": {
     "outputs": {
      "0": {
       "name": "input",
       "opts": {
        "password": false,
        "prompt": "Enter a number: "
       },
       "output_type": "stream",
       "value": "407"
      }
     }
    },
    "collapsed": false
   },
   "outputs": [
    {
     "name": "stdout",
     "output_type": "stream",
     "text": "Enter a number:  407"
    },
    {
     "name": "stdout",
     "output_type": "stream",
     "text": [
      "407 is an Armstrong number\n"
     ]
    }
   ],
   "source": [
    "# QNO:18.Write a Python program to check the number is Armstrong or not.\n",
    "# NAME: ARPAN PANIGRAHI\n",
    "# SIC NO: 180310197\n",
    "\n",
    "num = int(input(\"Enter a number: \"))  \n",
    "sum = 0  \n",
    "temp = num  \n",
    "  \n",
    "while temp > 0:  \n",
    "   digit = temp % 10  \n",
    "   sum += digit ** 3  \n",
    "   temp //= 10  \n",
    "  \n",
    "if num == sum:  \n",
    "   print(num,\"is an Armstrong number\")  \n",
    "else:  \n",
    "   print(num,\"is not an Armstrong number\")  \n"
   ]
  },
  {
   "cell_type": "code",
   "execution_count": 32,
   "metadata": {
    "cocalc": {
     "outputs": {
      "0": {
       "name": "input",
       "opts": {
        "password": false,
        "prompt": "Enter the value of upper:"
       },
       "output_type": "stream",
       "value": "12"
      },
      "1": {
       "name": "input",
       "opts": {
        "password": false,
        "prompt": "Enter the value of lower:"
       },
       "output_type": "stream",
       "value": "2"
      }
     }
    },
    "collapsed": false
   },
   "outputs": [
    {
     "name": "stdout",
     "output_type": "stream",
     "text": "Enter the value of upper: 12"
    },
    {
     "name": "stdout",
     "output_type": "stream",
     "text": "Enter the value of lower: 2"
    },
    {
     "name": "stdout",
     "output_type": "stream",
     "text": [
      "Prime numbers between 2 and 12 are:\n",
      "2\n",
      "3\n",
      "5\n",
      "7\n",
      "11\n"
     ]
    }
   ],
   "source": [
    "# QNO:19. Write a Python program that will display the prime’s number between M and N.\n",
    "# NAME: ARPAN PANIGRAHI\n",
    "# SIC NO: 180310197\n",
    "\n",
    "upper = int(input(\"Enter the value of upper:\"))\n",
    "lower = int(input(\"Enter the value of lower:\"))\n",
    "print(\"Prime numbers between\", lower, \"and\", upper, \"are:\")\n",
    "for num in range(lower, upper + 1):\n",
    "   if num > 1:\n",
    "       for i in range(2, num):\n",
    "           if (num % i) == 0:\n",
    "               break\n",
    "       else:\n",
    "           print(num)\n"
   ]
  },
  {
   "cell_type": "code",
   "execution_count": 37,
   "metadata": {
    "cocalc": {
     "outputs": {
      "0": {
       "name": "input",
       "opts": {
        "password": false,
        "prompt": "n="
       },
       "output_type": "stream",
       "value": "8"
      }
     }
    },
    "collapsed": false
   },
   "outputs": [
    {
     "name": "stdout",
     "output_type": "stream",
     "text": "n= 8"
    },
    {
     "name": "stdout",
     "output_type": "stream",
     "text": [
      "1\n",
      "2 is neither prime nor composite\n",
      "3\n",
      "4\n",
      "5\n"
     ]
    }
   ],
   "source": [
    "# QNO:20. Write a python program that will take a positive integer as input and display the positive numbers, which are less than num and relatively prime to num.\n",
    "# NAME: ARPAN PANIGRAHI\n",
    "# SIC NO: 180310197\n",
    "\n",
    "n = int(input(\"n=\"))\n",
    "for i in range(1,n-1):\n",
    "    f = 0\n",
    "    for j in range (2,i):\n",
    "        if(i%j==0):\n",
    "            f = f + 1\n",
    "    if(f<2):\n",
    "        if(i==2):\n",
    "            print(\"2 is neither prime nor composite\")\n",
    "        else:\n",
    "            print(i)"
   ]
  },
  {
   "cell_type": "code",
   "execution_count": 39,
   "metadata": {
    "cocalc": {
     "outputs": {
      "0": {
       "name": "input",
       "opts": {
        "password": false,
        "prompt": "Enter the value for rows:"
       },
       "output_type": "stream",
       "value": "4"
      }
     }
    },
    "collapsed": false
   },
   "outputs": [
    {
     "name": "stdout",
     "output_type": "stream",
     "text": "Enter the value for rows: 4"
    },
    {
     "name": "stdout",
     "output_type": "stream",
     "text": [
      "1  \n",
      "1 2  \n",
      "1 2 3  \n",
      "1 2 3 4  \n"
     ]
    }
   ],
   "source": [
    "#Q21. Write python programs that will print the following output.\n",
    "# NAME: ARPAN PANIGRAHI\n",
    "# SIC NO: 180310197\n",
    "\n",
    "#21(a)\n",
    "\n",
    "rows = int(input(\"Enter the value for rows:\")) \n",
    "\n",
    "for row in range(1, rows+1):\n",
    "\n",
    "    for column in range(1, row + 1):\n",
    "\n",
    "        print(column, end=' ')\n",
    "\n",
    "    print(\" \")\n",
    "\n"
   ]
  },
  {
   "cell_type": "code",
   "execution_count": 1,
   "metadata": {
    "collapsed": false
   },
   "outputs": [
    {
     "name": "stdout",
     "output_type": "stream",
     "text": [
      " \n",
      "1  \n",
      "2 2  \n",
      "3 3 3  \n",
      "4 4 4 4  \n"
     ]
    }
   ],
   "source": [
    "# NAME: ARPAN PANIGRAHI\n",
    "# SIC NO: 180310197\n",
    "#21(b)\n",
    "\n",
    "rows = 5\n",
    "\n",
    "for num in range(rows):\n",
    "    for i in range(num):\n",
    "        print(num, end=' ')\n",
    "    print(\" \")\n"
   ]
  },
  {
   "cell_type": "code",
   "execution_count": 2,
   "metadata": {
    "collapsed": false
   },
   "outputs": [
    {
     "name": "stdout",
     "output_type": "stream",
     "text": [
      "A A A A A A \n",
      "A         A \n",
      "A         A \n",
      "A         A \n",
      "A         A \n",
      "A A A A A A \n"
     ]
    }
   ],
   "source": [
    "# NAME: ARPAN PANIGRAHI\n",
    "# SIC NO: 180310197\n",
    "#21(c)\n",
    "\n",
    "for i in range(0,6):\n",
    "    for j in range(0,6):\n",
    "        if(i==0 or i==5 or j==0 or j==5):\n",
    "            print('A',end=\" \")\n",
    "        else:\n",
    "            print(' ',end=\" \")\n",
    "    print()\n"
   ]
  },
  {
   "cell_type": "code",
   "execution_count": 3,
   "metadata": {
    "collapsed": false
   },
   "outputs": [
    {
     "name": "stdout",
     "output_type": "stream",
     "text": [
      "\n",
      "\n",
      "a \n",
      "\n",
      "a b \n",
      "\n",
      "a b c \n",
      "\n"
     ]
    }
   ],
   "source": [
    "# NAME: ARPAN PANIGRAHI\n",
    "# SIC NO: 180310197\n",
    "#21(d)\n",
    "\n",
    "for i in range(1,5):\n",
    "    k = 97\n",
    "    for j in range(1,i):\n",
    "        print(chr(k),end=\" \")\n",
    "        k = k + 1\n",
    "    print(\"\\n\")\n"
   ]
  },
  {
   "cell_type": "code",
   "execution_count": 4,
   "metadata": {
    "collapsed": false
   },
   "outputs": [
    {
     "name": "stdout",
     "output_type": "stream",
     "text": [
      "a a a a a a a \n",
      "  a a a a a a \n",
      "    a a a a a \n",
      "      a a a a \n",
      "        a a a \n",
      "          a a \n",
      "            a \n"
     ]
    }
   ],
   "source": [
    "# NAME: ARPAN PANIGRAHI\n",
    "# SIC NO: 180310197\n",
    "#21(e)\n",
    "\n",
    "for i in range(0,7):\n",
    "    for j in range(0,i):\n",
    "        print(' ',end=\" \")\n",
    "    for k in range(0,7-i):\n",
    "        print('a',end=\" \")\n",
    "    print()\n"
   ]
  },
  {
   "cell_type": "code",
   "execution_count": 5,
   "metadata": {
    "collapsed": false
   },
   "outputs": [
    {
     "name": "stdout",
     "output_type": "stream",
     "text": [
      "                * \n",
      "             *  *  * \n",
      "          *  *  *  *  * \n",
      "       *  *  *  *  *  *  * \n",
      "    *  *  *  *  *  *  *  *  * \n"
     ]
    }
   ],
   "source": [
    "# NAME: ARPAN PANIGRAHI\n",
    "# SIC NO: 180310197\n",
    "#21(f)\n",
    "\n",
    "def drawPattern(a):\n",
    "\tfor x in range(0, a):\n",
    "\t\tfor y in range(0, int(a-x)):\n",
    "\t\t\tprint('   ', end='')\n",
    "\t\tfor y in range(0, 2*x+1):\n",
    "\t\t\tprint(' * ', end='')\n",
    "\t\tprint('')\n",
    "\t\t\n",
    "drawPattern(5)\n",
    "\n"
   ]
  },
  {
   "cell_type": "code",
   "execution_count": 7,
   "metadata": {
    "cocalc": {
     "outputs": {
      "0": {
       "name": "input",
       "opts": {
        "password": false,
        "prompt": "Enter the value of n "
       },
       "output_type": "stream",
       "value": "5"
      }
     }
    },
    "collapsed": false,
    "scrolled": true
   },
   "outputs": [
    {
     "name": "stdout",
     "output_type": "stream",
     "text": "Enter the value of n  5"
    },
    {
     "name": "stdout",
     "output_type": "stream",
     "text": [
      "        1 \n",
      "      2 3 2 \n",
      "    3 4 5 4 3 \n",
      "  4 5 6 7 6 5 4 \n",
      "5 6 7 8 9 8 7 6 5 \n"
     ]
    }
   ],
   "source": [
    "# NAME: ARPAN PANIGRAHI\n",
    "# SIC NO: 180310197\n",
    "#21(g)\n",
    "\n",
    "n = int(input(\"Enter the value of n \"))\n",
    "value = 1\n",
    "for i in range(1,n+1):\n",
    "    print(\"  \"*(n-i),end=\"\")\n",
    "    for j in range(i):\n",
    "        print(i+j,end=\" \")\n",
    "    for j in range(i-2,-1,-1):\n",
    "        print(i+j,end=\" \")\n",
    "    value += 1\n",
    "    print()\n"
   ]
  },
  {
   "cell_type": "code",
   "execution_count": 0,
   "metadata": {
    "collapsed": false
   },
   "outputs": [
   ],
   "source": [
   ]
  }
 ],
 "metadata": {
  "kernelspec": {
   "display_name": "Python 3 (system-wide)",
   "language": "python",
   "metadata": {
    "cocalc": {
     "description": "Python 3 programming language",
     "priority": 100,
     "url": "https://www.python.org/"
    }
   },
   "name": "python3",
   "resource_dir": "/ext/jupyter/kernels/python3"
  },
  "language_info": {
   "codemirror_mode": {
    "name": "ipython",
    "version": 3
   },
   "file_extension": ".py",
   "mimetype": "text/x-python",
   "name": "python",
   "nbconvert_exporter": "python",
   "pygments_lexer": "ipython3",
   "version": "3.8.5"
  }
 },
 "nbformat": 4,
 "nbformat_minor": 4
}