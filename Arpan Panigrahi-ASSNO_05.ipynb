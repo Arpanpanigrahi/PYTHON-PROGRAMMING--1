{
 "cells": [
  {
   "cell_type": "code",
   "execution_count": 2,
   "metadata": {
    "cocalc": {
     "outputs": {
      "1": {
       "name": "input",
       "opts": {
        "password": false,
        "prompt": "ENTER THE NUMBER OF ATTEMPTS YOU WANT: "
       },
       "output_type": "stream",
       "value": "3"
      },
      "2": {
       "name": "input",
       "opts": {
        "password": false,
        "prompt": "GUESS THE NUMBER:[1-100] "
       },
       "output_type": "stream",
       "value": "58"
      },
      "4": {
       "name": "input",
       "opts": {
        "password": false,
        "prompt": "GUESS THE NUMBER:[1-100] "
       },
       "output_type": "stream",
       "value": "98"
      },
      "6": {
       "name": "input",
       "opts": {
        "password": false,
        "prompt": "GUESS THE NUMBER:[1-100] "
       },
       "output_type": "stream",
       "value": "80"
      }
     }
    },
    "collapsed": false
   },
   "outputs": [
    {
     "name": "stdout",
     "output_type": "stream",
     "text": [
      "<><><><><><><><><><><><><><><><><><><><><><><>\n"
     ]
    },
    {
     "name": "stdout",
     "output_type": "stream",
     "text": "ENTER THE NUMBER OF ATTEMPTS YOU WANT:  3"
    },
    {
     "name": "stdout",
     "output_type": "stream",
     "text": "GUESS THE NUMBER:[1-100]  58"
    },
    {
     "name": "stdout",
     "output_type": "stream",
     "text": [
      "TOO SMALL\n"
     ]
    },
    {
     "name": "stdout",
     "output_type": "stream",
     "text": "GUESS THE NUMBER:[1-100]  98"
    },
    {
     "name": "stdout",
     "output_type": "stream",
     "text": [
      "TOO BIG\n"
     ]
    },
    {
     "name": "stdout",
     "output_type": "stream",
     "text": "GUESS THE NUMBER:[1-100]  80"
    },
    {
     "name": "stdout",
     "output_type": "stream",
     "text": [
      "TOO SMALL\n",
      "::::::::::::::YOU ARE A LOOSER:::::::::::::::::\n"
     ]
    }
   ],
   "source": [
    "#1.Computer will generate a random number within the given range.  A user will be asked to guess a number within that range.  \n",
    "#1)If the User could able to guess the number in a single attempt the message should come  “GENIOUS- Take a BOW”\n",
    "#2)If the guessed number is equal to the system generated random number then the message should come “ YOU WIN with ____attempts” \n",
    "#(“______” must be filled with number of attempts made)\n",
    "#3)If the guessed number is more than the system generated random number then the message should come “ TOO BIG”\n",
    "#4)If the guessed number is less than the system generated random number then the message should come “ TOO SMALL”\n",
    "#Assume that the system has n components. For each incorrect attempt the system looses one component. When all components of the \n",
    "#system are lost the system should generate the message   “ YOU ARE A LOOSER”.  \n",
    "#NAME: ARPAN PANIGRAHI\n",
    "#SICNO: 180310197\n",
    "\n",
    "\n",
    "import random\n",
    "print(\"<><><><><><><><><><><><><><><><><><><><><><><>\")\n",
    "n = int(input(\"ENTER THE NUMBER OF ATTEMPTS YOU WANT: \"))\n",
    "num = random.randint(1,100)\n",
    "for i in range(n):\n",
    "    guess = int(input(\"GUESS THE NUMBER:[1-100] \"))\n",
    "    if guess == num:\n",
    "        if i == 0:\n",
    "            print(\"GENIOUS-> TAKE A BOW\")\n",
    "        else:\n",
    "            print(\"YOU WIN WITH\",i+1,\"ATTEMPTS\")\n",
    "        break\n",
    "    elif guess > num:\n",
    "        print(\"TOO BIG\")\n",
    "    else:\n",
    "        print(\"TOO SMALL\")\n",
    "else:\n",
    "    print(\"::::::::::::::YOU ARE A LOOSER:::::::::::::::::\")\n"
   ]
  },
  {
   "cell_type": "code",
   "execution_count": 1,
   "metadata": {
    "cocalc": {
     "outputs": {
      "0": {
       "name": "input",
       "opts": {
        "password": false,
        "prompt": "Enter a 4 digit number with no digits repeating:"
       },
       "output_type": "stream",
       "value": "1024"
      }
     }
    },
    "collapsed": false
   },
   "outputs": [
    {
     "name": "stdout",
     "output_type": "stream",
     "text": "Enter a 4 digit number with no digits repeating: 1024"
    },
    {
     "name": "stdout",
     "output_type": "stream",
     "text": [
      "0 bull  1 cow\n",
      "5806\n"
     ]
    }
   ],
   "source": [
    "#2.Cows N’ Bulls:\n",
    "#NAME: ARPAN PANIGRAHI\n",
    "#SICNO: 180310197\n",
    "\n",
    "import random\n",
    "n=random.sample(range(10),4)\n",
    "coder=''.join(map(str,n))\n",
    "#print(coder)\n",
    "cows=0\n",
    "bulls=0\n",
    "cracker=input(\"Enter a 4 digit number with no digits repeating:\")\n",
    "for i in coder:\n",
    "    for j in cracker:\n",
    "        if i==j:\n",
    "            if coder.index(i)==cracker.index(j):\n",
    "                bulls+=1\n",
    "            else:\n",
    "                cows+=1\n",
    "print(bulls,\"bull \",cows,\"cow\")\n",
    "print(coder)\n"
   ]
  },
  {
   "cell_type": "code",
   "execution_count": 2,
   "metadata": {
    "cocalc": {
     "outputs": {
      "0": {
       "name": "input",
       "opts": {
        "password": false,
        "prompt": "Enter the number of attempts:"
       },
       "output_type": "stream",
       "value": "3"
      },
      "1": {
       "name": "input",
       "opts": {
        "password": false,
        "prompt": "Enter the word:"
       },
       "output_type": "stream",
       "value": "Excellant"
      },
      "3": {
       "name": "input",
       "opts": {
        "password": false,
        "prompt": "Enter the word:"
       },
       "output_type": "stream",
       "value": "Honesty"
      }
     }
    },
    "collapsed": false
   },
   "outputs": [
    {
     "name": "stdout",
     "output_type": "stream",
     "text": "Enter the number of attempts: 3"
    },
    {
     "name": "stdout",
     "output_type": "stream",
     "text": "Enter the word: Excellant"
    },
    {
     "name": "stdout",
     "output_type": "stream",
     "text": [
      "2\n"
     ]
    },
    {
     "name": "stdout",
     "output_type": "stream",
     "text": "Enter the word: Honesty"
    },
    {
     "name": "stdout",
     "output_type": "stream",
     "text": [
      "Winner\n"
     ]
    }
   ],
   "source": [
    "#3.Forbidden Letters:\n",
    "#NAME:ARPAN PANIGRAHI\n",
    "#SICNO:180310197\n",
    "\n",
    "forbidden=['a','c','z','m','k']\n",
    "n=int(input(\"Enter the number of attempts:\"))\n",
    "while n>0:\n",
    "    word=input(\"Enter the word:\")\n",
    "    i=0\n",
    "    j=0\n",
    "    c=0\n",
    "    for i in forbidden:\n",
    "        for j in word:\n",
    "             if i==j:\n",
    "                 c+=1\n",
    "    \n",
    "    if c==0:\n",
    "        print(\"Winner\")\n",
    "        break;\n",
    "    else:\n",
    "        print(c)\n",
    "        n-=1\n",
    "if n==0:\n",
    "    print(\"Loser\")"
   ]
  },
  {
   "cell_type": "code",
   "execution_count": 0,
   "metadata": {
    "collapsed": false
   },
   "outputs": [
   ],
   "source": [
   ]
  }
 ],
 "metadata": {
  "kernelspec": {
   "display_name": "Python 3 (system-wide)",
   "language": "python",
   "metadata": {
    "cocalc": {
     "description": "Python 3 programming language",
     "priority": 100,
     "url": "https://www.python.org/"
    }
   },
   "name": "python3",
   "resource_dir": "/ext/jupyter/kernels/python3"
  },
  "language_info": {
   "codemirror_mode": {
    "name": "ipython",
    "version": 3
   },
   "file_extension": ".py",
   "mimetype": "text/x-python",
   "name": "python",
   "nbconvert_exporter": "python",
   "pygments_lexer": "ipython3",
   "version": "3.8.5"
  }
 },
 "nbformat": 4,
 "nbformat_minor": 4
}