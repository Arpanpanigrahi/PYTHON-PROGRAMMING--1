{
 "cells": [
  {
   "cell_type": "code",
   "execution_count": 1,
   "metadata": {
    "collapsed": false
   },
   "outputs": [
    {
     "name": "stdout",
     "output_type": "stream",
     "text": [
      "Square of 5= 25\n"
     ]
    }
   ],
   "source": [
    "#NAME: ARPAN PANIGRAHI\n",
    "#SICNO: 180310197\n",
    "\n",
    "f=lambda x:x*x\n",
    "value=f(5)\n",
    "print('Square of 5=',value)"
   ]
  },
  {
   "cell_type": "code",
   "execution_count": 4,
   "metadata": {
    "collapsed": false
   },
   "outputs": [
    {
     "name": "stdout",
     "output_type": "stream",
     "text": [
      "Sum= 15.5\n"
     ]
    }
   ],
   "source": [
    "#NAME: ARPAN PANIGRAHI\n",
    "#SICNO: 180310197\n",
    "\n",
    "f=lambda x,y:x*y\n",
    "value=f(1.55,10)\n",
    "print('Sum=',value)"
   ]
  },
  {
   "cell_type": "code",
   "execution_count": 11,
   "metadata": {
    "cocalc": {
     "outputs": {
      "0": {
       "name": "input",
       "opts": {
        "password": false,
        "prompt": "Enter two numbers"
       },
       "output_type": "stream",
       "value": "7,5"
      }
     }
    },
    "collapsed": false
   },
   "outputs": [
    {
     "name": "stdout",
     "output_type": "stream",
     "text": "Enter two numbers 7,5"
    },
    {
     "name": "stdout",
     "output_type": "stream",
     "text": [
      "Bigger Number = 7\n"
     ]
    }
   ],
   "source": [
    "#A lambda function to find the bigger number in two given numbers\n",
    "#NAME: ARPAN PANIGRAHI\n",
    "#SICNO: 180310197\n",
    "\n",
    "max=lambda x,y:x if x>y else y\n",
    "a,b=[int(n) for n in input('Enter two numbers').split(',')]\n",
    "print('Bigger Number =',max(a,b))"
   ]
  },
  {
   "cell_type": "code",
   "execution_count": 12,
   "metadata": {
    "collapsed": false
   },
   "outputs": [
    {
     "name": "stdout",
     "output_type": "stream",
     "text": [
      "[10, 46, 70]\n"
     ]
    }
   ],
   "source": [
    "#NAME: ARPAN PANIGRAHI\n",
    "#SICNO: 180310197\n",
    "#filter()\n",
    "\n",
    "def is_even(x):\n",
    "    if x%2==0:\n",
    "        return True\n",
    "    else:\n",
    "        return False\n",
    "lst=[10,23,45,46,70,99]\n",
    "lst1=list(filter(is_even,lst))\n",
    "print(lst1)"
   ]
  },
  {
   "cell_type": "code",
   "execution_count": 14,
   "metadata": {
    "collapsed": false
   },
   "outputs": [
    {
     "name": "stdout",
     "output_type": "stream",
     "text": [
      "[10, 46, 70]\n"
     ]
    }
   ],
   "source": [
    "#NAME: ARPAN PANIGRAHI\n",
    "#SICNO: 180310197\n",
    "#filter()\n",
    "\n",
    "lst=[10,23,45,46,70,99]\n",
    "lst1=list(filter(lambda x:(x%2==0),lst))\n",
    "print(lst1)"
   ]
  },
  {
   "cell_type": "code",
   "execution_count": 15,
   "metadata": {
    "collapsed": false
   },
   "outputs": [
    {
     "name": "stdout",
     "output_type": "stream",
     "text": [
      "inside the generator\n",
      "Pass 1 -> a\n",
      "Pass 2 -> [1, 2, 3]\n",
      "Pass 3 -> 3\n"
     ]
    }
   ],
   "source": [
    "#NAME: ARPAN PANIGRAHI\n",
    "#SICNO: 180310197\n",
    "#Generator Function\n",
    "\n",
    "def myGen():\n",
    "    print('inside the generator')\n",
    "    yield 'a'\n",
    "    yield [1,2,3]\n",
    "    yield 3\n",
    "count=0\n",
    "for x in myGen():\n",
    "    count=count+1\n",
    "    print('Pass',count,'->',x)"
   ]
  },
  {
   "cell_type": "code",
   "execution_count": 19,
   "metadata": {
    "collapsed": false
   },
   "outputs": [
    {
     "name": "stdout",
     "output_type": "stream",
     "text": [
      "inside the generator\n",
      "a\n",
      "[1, 2, 3]\n",
      "3\n"
     ]
    }
   ],
   "source": [
    "#NAME: ARPAN PANIGRAHI\n",
    "#SICNO: 180310197\n",
    "\n",
    "def myGen():\n",
    "       print('inside the generator')\n",
    "       yield 'a'\n",
    "       yield [1,2,3]\n",
    "       yield 3\n",
    "g=myGen()\n",
    "print(g.__next__())  \n",
    "print(g.__next__())\n",
    "print(g.__next__())"
   ]
  },
  {
   "cell_type": "code",
   "execution_count": 20,
   "metadata": {
    "collapsed": false
   },
   "outputs": [
    {
     "name": "stdout",
     "output_type": "stream",
     "text": [
      "inside the generator\n",
      "a\n",
      "[1, 2, 3]\n",
      "3\n"
     ]
    }
   ],
   "source": [
    "#NAME: ARPAN PANIGRAHI\n",
    "#SICNO: 180310197\n",
    "\n",
    "def myGen():\n",
    "       print('inside the generator')\n",
    "       yield 'a'\n",
    "       yield [1,2,3]\n",
    "       yield 3\n",
    "g=myGen()\n",
    "print(next(g))  \n",
    "print(next(g))\n",
    "print(next(g))"
   ]
  }
 ],
 "metadata": {
  "kernelspec": {
   "display_name": "Python 3 (system-wide)",
   "language": "python",
   "metadata": {
    "cocalc": {
     "description": "Python 3 programming language",
     "priority": 100,
     "url": "https://www.python.org/"
    }
   },
   "name": "python3",
   "resource_dir": "/ext/jupyter/kernels/python3"
  },
  "language_info": {
   "codemirror_mode": {
    "name": "ipython",
    "version": 3
   },
   "file_extension": ".py",
   "mimetype": "text/x-python",
   "name": "python",
   "nbconvert_exporter": "python",
   "pygments_lexer": "ipython3",
   "version": "3.8.5"
  }
 },
 "nbformat": 4,
 "nbformat_minor": 4
}