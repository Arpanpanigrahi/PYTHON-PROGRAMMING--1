{
 "cells": [
  {
   "cell_type": "code",
   "execution_count": 1,
   "metadata": {
    "cocalc": {
     "outputs": {
      "0": {
       "name": "input",
       "opts": {
        "password": false,
        "prompt": "Enter dollar : "
       },
       "output_type": "stream",
       "value": "6"
      }
     }
    },
    "collapsed": false
   },
   "outputs": [
    {
     "name": "stdout",
     "output_type": "stream",
     "text": "Enter dollar :  6"
    },
    {
     "name": "stdout",
     "output_type": "stream",
     "text": [
      " (void ) rupees in  6.0 dollar =  432.0\n",
      " ( non void ) rupees in  6.0 dollar =  432.0\n"
     ]
    }
   ],
   "source": [
    "#1.Write a function that takes amount-in-dollars and dollar-to-rupee conversion price.\n",
    "#It then returns the amount converted to rupees. Create the function in both void and non-void term.\n",
    "#NAME: ARPAN PANIGRAHI\n",
    "#SICNO: 180310197\n",
    "\n",
    "def rup(doll) :     #void\n",
    "    print(\" (void ) rupees in \",doll ,\"dollar = \",doll * 72)\n",
    "\n",
    "\n",
    "def rupee(doll) :  # non Void\n",
    "    return doll * 72\n",
    "\n",
    "\n",
    "doll = float(input(\"Enter dollar : \"))\n",
    "rup(doll)    #void\n",
    "print(\" ( non void ) rupees in \",doll ,\"dollar = \", rupee(doll) )  # non Void\n",
    "\n"
   ]
  },
  {
   "cell_type": "code",
   "execution_count": 2,
   "metadata": {
    "cocalc": {
     "outputs": {
      "0": {
       "name": "input",
       "opts": {
        "password": false,
        "prompt": "Enter the length : "
       },
       "output_type": "stream",
       "value": "5"
      },
      "1": {
       "name": "input",
       "opts": {
        "password": false,
        "prompt": "Enter the width : "
       },
       "output_type": "stream",
       "value": "6"
      },
      "2": {
       "name": "input",
       "opts": {
        "password": false,
        "prompt": "Enter the height : "
       },
       "output_type": "stream",
       "value": "8"
      }
     }
    },
    "collapsed": false
   },
   "outputs": [
    {
     "name": "stdout",
     "output_type": "stream",
     "text": "Enter the length :  5"
    },
    {
     "name": "stdout",
     "output_type": "stream",
     "text": "Enter the width :  6"
    },
    {
     "name": "stdout",
     "output_type": "stream",
     "text": "Enter the height :  8"
    },
    {
     "name": "stdout",
     "output_type": "stream",
     "text": [
      "volume of box =  240\n"
     ]
    }
   ],
   "source": [
    "#2. Write a function to calculate volume of a box with appropriate default values for its parameters.\n",
    "#Your function should have the following input parameters. Your function should have the following input parameters:\n",
    "#a) Length of box;\n",
    "#b) Width of box;\n",
    "#c) Height of box;\n",
    "#Test it by writing complete program to invoke it.\n",
    "#NAME: ARPAN PANIGRAHI\n",
    "#SICNO: 180310197\n",
    "\n",
    "def vol( l = 1, w = 1 , h = 1 ) :\n",
    "    return l * w * h\n",
    "\n",
    "length = int(input(\"Enter the length : \"))\n",
    "width = int(input(\"Enter the width : \"))\n",
    "height = int(input(\"Enter the height : \"))\n",
    "\n",
    "print(\"volume of box = \", vol( length , width , height ))"
   ]
  },
  {
   "cell_type": "code",
   "execution_count": 3,
   "metadata": {
    "cocalc": {
     "outputs": {
      "0": {
       "name": "input",
       "opts": {
        "password": false,
        "prompt": "Enter a number (For empty press Enter ) :"
       },
       "output_type": "stream",
       "value": "2"
      },
      "2": {
       "name": "input",
       "opts": {
        "password": false,
        "prompt": "Enter a Char 1 : "
       },
       "output_type": "stream",
       "value": "5"
      },
      "3": {
       "name": "input",
       "opts": {
        "password": false,
        "prompt": "Enter a Char 2 : "
       },
       "output_type": "stream",
       "value": "2"
      }
     }
    },
    "collapsed": false
   },
   "outputs": [
    {
     "name": "stdout",
     "output_type": "stream",
     "text": "Enter a number (For empty press Enter ) : 2"
    },
    {
     "name": "stdout",
     "output_type": "stream",
     "text": [
      "Cube of  2 = 8\n"
     ]
    },
    {
     "name": "stdout",
     "output_type": "stream",
     "text": "Enter a Char 1 :  5"
    },
    {
     "name": "stdout",
     "output_type": "stream",
     "text": "Enter a Char 2 :  2"
    },
    {
     "name": "stdout",
     "output_type": "stream",
     "text": [
      "False \n"
     ]
    }
   ],
   "source": [
    "#3. Write a program to have following functions:\n",
    "#i. A Function that takes a number as argument and calculate cube for it. The function \n",
    "#does not return a value. If there is no value passed to the function in function call, the \n",
    "#function should calculate cube of 2.\n",
    "#ii. A function that takes two char arguments and returns True if both the arguments are \n",
    "#equal otherwise False.\n",
    "#Test both these functions by giving appropriate function call statements.\n",
    "#NAME: ARPAN PANIGRAHI\n",
    "#SICNO: 180310197\n",
    "\n",
    "#(i) \n",
    "\n",
    "def cube( a = 2 ) :\n",
    "    print( \"Cube of \", a ,\"=\"  , a ** 3 )\n",
    "\n",
    "num = input(\"Enter a number (For empty press Enter ) :\")\n",
    "\n",
    "if num == \"\" :\n",
    "    cube()\n",
    "else :\n",
    "    cube( int (num) )\n",
    "\n",
    "\n",
    "#(ii)\n",
    " \n",
    "def chr() :\n",
    "    char1 = input(\"Enter a Char 1 : \")\n",
    "    char2 = input(\"Enter a Char 2 : \")\n",
    "    if char1 == char2 :\n",
    "        print(\"Ture\")\n",
    "    else:\n",
    "        print(\"False \")\n",
    "\n",
    "chr()\n"
   ]
  },
  {
   "cell_type": "code",
   "execution_count": 4,
   "metadata": {
    "collapsed": false
   },
   "outputs": [
    {
     "name": "stdout",
     "output_type": "stream",
     "text": [
      "Three Random Numbers are: 32 6 533\n"
     ]
    }
   ],
   "source": [
    "#4. Write a function that receives two numbers and generate a random number from that range.\n",
    "# Using this function, the main program should be able to print three numbers randomly.\n",
    "#NAME: ARPAN PANIGRAHI\n",
    "#SICNO: 180310197\n",
    "\n",
    "from random import randint\n",
    "\n",
    "def random(x,y):\n",
    "    return randint(x,y)\n",
    "print(\"Three Random Numbers are:\", random(10,50), random(2,10), random(500,600))"
   ]
  },
  {
   "cell_type": "code",
   "execution_count": 6,
   "metadata": {
    "cocalc": {
     "outputs": {
      "0": {
       "name": "input",
       "opts": {
        "password": false,
        "prompt": "Enter first number = "
       },
       "output_type": "stream",
       "value": "Arpan"
      },
      "1": {
       "name": "input",
       "opts": {
        "password": false,
        "prompt": "Enter second number = "
       },
       "output_type": "stream",
       "value": "Arpit"
      }
     }
    },
    "collapsed": false
   },
   "outputs": [
    {
     "name": "stdout",
     "output_type": "stream",
     "text": "Enter first number =  Arpan"
    },
    {
     "name": "stdout",
     "output_type": "stream",
     "text": "Enter second number =  Arpit"
    },
    {
     "name": "stdout",
     "output_type": "stream",
     "text": [
      "True\n"
     ]
    }
   ],
   "source": [
    "#5.Write a function that receives two string arguments and checks whether they are same length strings\n",
    "#( returns True in this case otherwise false) .\n",
    "#NAME: ARPAN PANIGRAHI\n",
    "#SICNO: 180310197\n",
    "\n",
    "def chr(a , b) :\n",
    "    print( len(a ) == len(b) )\n",
    "    \n",
    "first = input(\"Enter first number = \")\n",
    "second = input(\"Enter second number = \")\n",
    "chr(first , second )"
   ]
  },
  {
   "cell_type": "code",
   "execution_count": 7,
   "metadata": {
    "cocalc": {
     "outputs": {
      "0": {
       "name": "input",
       "opts": {
        "password": false,
        "prompt": " Enter a number = "
       },
       "output_type": "stream",
       "value": "8"
      },
      "1": {
       "name": "input",
       "opts": {
        "password": false,
        "prompt": "Enter nthRoot= "
       },
       "output_type": "stream",
       "value": "2"
      }
     }
    },
    "collapsed": false
   },
   "outputs": [
    {
     "name": "stdout",
     "output_type": "stream",
     "text": " Enter a number =  8"
    },
    {
     "name": "stdout",
     "output_type": "stream",
     "text": "Enter nthRoot=  2"
    },
    {
     "name": "stdout",
     "output_type": "stream",
     "text": [
      "2.8284271247461903\n"
     ]
    }
   ],
   "source": [
    "#6.Write a function namely nthRoot() that receives two parameters x and n and returns nth root of x I.e x 1/x .\n",
    "#The default value of n is 2.\n",
    "#NAME: ARPAN PANIGRAHI\n",
    "#SICNO: 180310197\n",
    "\n",
    "def root(x , n = 2 ) :\n",
    "    print( x ** (1 / n) )\n",
    "    \n",
    "x = int(input(\" Enter a number = \"))\n",
    "n = int(input(\"Enter nthRoot= \"))\n",
    "\n",
    "if n == 0 :\n",
    "    root(x)\n",
    "else :\n",
    "    root(x,n)"
   ]
  },
  {
   "cell_type": "code",
   "execution_count": 8,
   "metadata": {
    "cocalc": {
     "outputs": {
      "0": {
       "name": "input",
       "opts": {
        "password": false,
        "prompt": "Enter number of digit : "
       },
       "output_type": "stream",
       "value": "3"
      }
     }
    },
    "collapsed": false
   },
   "outputs": [
    {
     "name": "stdout",
     "output_type": "stream",
     "text": "Enter number of digit :  3"
    },
    {
     "name": "stdout",
     "output_type": "stream",
     "text": [
      "923\n"
     ]
    }
   ],
   "source": [
    "#7. Write a function that takes a number n and then returns a randomly generated number having \n",
    "#exactly n digits (not starting with zero) e.g. if n is 2 then function can randomly return a number \n",
    "#10-99 but 07,02 etc are not valid two digits numbers.\n",
    "#NAME: ARPAN PANIGRAHI\n",
    "#SICNO:180310197\n",
    "\n",
    "import random\n",
    "\n",
    "def ran( x ) :\n",
    "    a = 10 ** (x - 1 )\n",
    "    b= 10 ** (x )\n",
    "    print( random.randint ( a , b ) )\n",
    "\n",
    "n = int(input(\"Enter number of digit : \"))\n",
    "\n",
    "ran(n)\n"
   ]
  },
  {
   "cell_type": "code",
   "execution_count": 9,
   "metadata": {
    "cocalc": {
     "outputs": {
      "0": {
       "name": "input",
       "opts": {
        "password": false,
        "prompt": "Enter first number = "
       },
       "output_type": "stream",
       "value": "85"
      },
      "1": {
       "name": "input",
       "opts": {
        "password": false,
        "prompt": "Enter second number = "
       },
       "output_type": "stream",
       "value": "55"
      }
     }
    },
    "collapsed": false
   },
   "outputs": [
    {
     "name": "stdout",
     "output_type": "stream",
     "text": "Enter first number =  85"
    },
    {
     "name": "stdout",
     "output_type": "stream",
     "text": "Enter second number =  55"
    },
    {
     "name": "stdout",
     "output_type": "stream",
     "text": [
      "Minimum one's digit number =  55\n"
     ]
    }
   ],
   "source": [
    "#8. Write a function that takes two numbers and returns the number that has minimum one’s digit. \n",
    "#[for example if the numbers passed are 491 and 278, then the function will return 491 because \n",
    "#it has got minimum one’s digit out of two given numbers ( 491’s 1 is < 278’s 8).\n",
    "#NAME: ARPAN PANIGRAHI\n",
    "#SICNO:180310197\n",
    "\n",
    "def min(x , y ) :\n",
    "    a = x % 10\n",
    "    b = y % 10\n",
    "    if a < b :\n",
    "        return x\n",
    "    else :\n",
    "        return y\n",
    "\n",
    "\n",
    "first = int(input(\"Enter first number = \"))\n",
    "second = int(input(\"Enter second number = \"))\n",
    "\n",
    "print ( \"Minimum one's digit number = \" , min( first , second ) )"
   ]
  },
  {
   "cell_type": "code",
   "execution_count": 0,
   "metadata": {
    "collapsed": false
   },
   "outputs": [
   ],
   "source": [
   ]
  }
 ],
 "metadata": {
  "kernelspec": {
   "display_name": "Python 3 (system-wide)",
   "language": "python",
   "metadata": {
    "cocalc": {
     "description": "Python 3 programming language",
     "priority": 100,
     "url": "https://www.python.org/"
    }
   },
   "name": "python3",
   "resource_dir": "/ext/jupyter/kernels/python3"
  },
  "language_info": {
   "codemirror_mode": {
    "name": "ipython",
    "version": 3
   },
   "file_extension": ".py",
   "mimetype": "text/x-python",
   "name": "python",
   "nbconvert_exporter": "python",
   "pygments_lexer": "ipython3",
   "version": "3.8.5"
  }
 },
 "nbformat": 4,
 "nbformat_minor": 4
}