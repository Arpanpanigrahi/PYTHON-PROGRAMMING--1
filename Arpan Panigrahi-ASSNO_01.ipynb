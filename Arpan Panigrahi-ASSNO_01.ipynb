{
 "cells": [
  {
   "cell_type": "code",
   "execution_count": 1,
   "metadata": {
    "cocalc": {
     "outputs": {
      "0": {
       "name": "input",
       "opts": {
        "password": false,
        "prompt": "Enter first number: "
       },
       "output_type": "stream",
       "value": "5"
      },
      "1": {
       "name": "input",
       "opts": {
        "password": false,
        "prompt": "Enter second number: "
       },
       "output_type": "stream",
       "value": "7"
      }
     }
    },
    "collapsed": false
   },
   "outputs": [
    {
     "name": "stdout",
     "output_type": "stream",
     "text": "Enter first number:  5"
    },
    {
     "name": "stdout",
     "output_type": "stream",
     "text": "Enter second number:  7"
    },
    {
     "name": "stdout",
     "output_type": "stream",
     "text": [
      "The sum of 5 and 7 is 12.0\n",
      "The subtraction of 5 and 7 is -2.0\n",
      "The multiplication of 5 and 7 is 35.0\n",
      "The division of 5 and 7 is 0.7142857142857143\n"
     ]
    }
   ],
   "source": [
    "# QNO:1 Write a python program to input two numbers and do all basic arithmetic operations on them\n",
    "# NAME: ARPAN PANIGRAHI\n",
    "# SIC NO: 180310197\n",
    "num1 = input('Enter first number: ')  \n",
    "num2 = input('Enter second number: ')  \n",
    "  \n",
    "sum = float(num1) + float(num2)  \n",
    "min = float(num1) - float(num2)  \n",
    "mul = float(num1) * float(num2)  \n",
    "div = float(num1) / float(num2)  \n",
    "\n",
    "print('The sum of {0} and {1} is {2}'.format(num1, num2, sum))  \n",
    "print('The subtraction of {0} and {1} is {2}'.format(num1, num2, min))  \n",
    "print('The multiplication of {0} and {1} is {2}'.format(num1, num2, mul))    \n",
    "print('The division of {0} and {1} is {2}'.format(num1, num2, div)) \n"
   ]
  },
  {
   "cell_type": "code",
   "execution_count": 2,
   "metadata": {
    "collapsed": false
   },
   "outputs": [
    {
     "name": "stdout",
     "output_type": "stream",
     "text": [
      "Before swapping: \n",
      "Value of x :  5  and y :  7\n",
      "After swapping: \n",
      "Value of x :  7  and y :  5\n"
     ]
    }
   ],
   "source": [
    "# QNO:2 Write a python program to input two numbers and swap their values without using any third variable\n",
    "# NAME: ARPAN PANIGRAHI\n",
    "# SIC NO: 180310197\n",
    "\n",
    "x = 5\n",
    "y = 7\n",
    " \n",
    "print (\"Before swapping: \")\n",
    "print(\"Value of x : \", x, \" and y : \", y)\n",
    "\n",
    "x, y = y, x\n",
    " \n",
    "print (\"After swapping: \")\n",
    "print(\"Value of x : \", x, \" and y : \", y)\n"
   ]
  },
  {
   "cell_type": "code",
   "execution_count": 4,
   "metadata": {
    "cocalc": {
     "outputs": {
      "1": {
       "name": "input",
       "opts": {
        "password": false,
        "prompt": "Enter Temperature in Fahrenheit: "
       },
       "output_type": "stream",
       "value": "45"
      }
     }
    },
    "collapsed": false
   },
   "outputs": [
    {
     "name": "stdout",
     "output_type": "stream",
     "text": [
      "Enter 'x' for exit.\n"
     ]
    },
    {
     "name": "stdout",
     "output_type": "stream",
     "text": "Enter Temperature in Fahrenheit:  45"
    },
    {
     "name": "stdout",
     "output_type": "stream",
     "text": [
      "Temperature in Celsius = 7.222222222222222\n"
     ]
    }
   ],
   "source": [
    "# QNO:3 Write a python program to enter temperature in fahrenheit and change it to celsius\n",
    "# NAME: ARPAN PANIGRAHI\n",
    "# SIC NO: 180310197\n",
    "\n",
    "print(\"Enter 'x' for exit.\");\n",
    "fah = input(\"Enter Temperature in Fahrenheit: \");\n",
    "if fah == 'x':\n",
    "    exit();\n",
    "else:\n",
    "    fahrenheit = float(fah);\n",
    "    celsius = (fahrenheit-32)/1.8;\n",
    "    print(\"Temperature in Celsius =\",celsius);\n"
   ]
  },
  {
   "cell_type": "code",
   "execution_count": 6,
   "metadata": {
    "cocalc": {
     "outputs": {
      "0": {
       "name": "input",
       "opts": {
        "password": false,
        "prompt": "ENTER THE BASIC SALARY: "
       },
       "output_type": "stream",
       "value": "5"
      }
     }
    },
    "collapsed": false
   },
   "outputs": [
    {
     "name": "stdout",
     "output_type": "stream",
     "text": "ENTER THE BASIC SALARY:  5"
    },
    {
     "name": "stdout",
     "output_type": "stream",
     "text": [
      "13.5\n"
     ]
    }
   ],
   "source": [
    "# QNO:4 calculate Gross salary\n",
    "# NAME: ARPAN PANIGRAHI\n",
    "# SIC NO: 180310197\n",
    "\n",
    "bs = float(input(\"ENTER THE BASIC SALARY: \"))\n",
    "da=1.2*bs\n",
    "hra=0.3*bs\n",
    "ta=0.2*bs\n",
    "g= bs+ta+da+hra\n",
    "print(g)"
   ]
  },
  {
   "cell_type": "code",
   "execution_count": 7,
   "metadata": {
    "cocalc": {
     "outputs": {
      "0": {
       "name": "input",
       "opts": {
        "password": false,
        "prompt": "Input Radius : "
       },
       "output_type": "stream",
       "value": "3"
      }
     }
    },
    "collapsed": false
   },
   "outputs": [
    {
     "name": "stdout",
     "output_type": "stream",
     "text": "Input Radius :  3"
    },
    {
     "name": "stdout",
     "output_type": "stream",
     "text": [
      "Area of Circle:  28.259999999999998\n",
      "Perimeter of Circle:  18.84\n"
     ]
    }
   ],
   "source": [
    "# QNO:5 Write a python program to input radius of circle and print its area and perimeter\n",
    "# NAME: ARPAN PANIGRAHI\n",
    "# SIC NO: 180310197\n",
    "\n",
    "r=float(input(\"Input Radius : \"))\n",
    "area=3.14*r*r\n",
    "perimeter=2*3.14*r\n",
    "print(\"Area of Circle: \",area)\n",
    "print(\"Perimeter of Circle: \",perimeter)\n"
   ]
  },
  {
   "cell_type": "code",
   "execution_count": 8,
   "metadata": {
    "cocalc": {
     "outputs": {
      "1": {
       "name": "input",
       "opts": {
        "password": false,
        "prompt": ""
       },
       "output_type": "stream",
       "value": "90"
      },
      "2": {
       "name": "input",
       "opts": {
        "password": false,
        "prompt": ""
       },
       "output_type": "stream",
       "value": "92"
      },
      "3": {
       "name": "input",
       "opts": {
        "password": false,
        "prompt": ""
       },
       "output_type": "stream",
       "value": "84"
      },
      "4": {
       "name": "input",
       "opts": {
        "password": false,
        "prompt": ""
       },
       "output_type": "stream",
       "value": "78"
      },
      "5": {
       "name": "input",
       "opts": {
        "password": false,
        "prompt": ""
       },
       "output_type": "stream",
       "value": "45"
      }
     }
    },
    "collapsed": false
   },
   "outputs": [
    {
     "name": "stdout",
     "output_type": "stream",
     "text": [
      "Enter the marks of five subjects::\n"
     ]
    },
    {
     "name": "stdout",
     "output_type": "stream",
     "text": " 90"
    },
    {
     "name": "stdout",
     "output_type": "stream",
     "text": " 92"
    },
    {
     "name": "stdout",
     "output_type": "stream",
     "text": " 84"
    },
    {
     "name": "stdout",
     "output_type": "stream",
     "text": " 78"
    },
    {
     "name": "stdout",
     "output_type": "stream",
     "text": " 45"
    },
    {
     "name": "stdout",
     "output_type": "stream",
     "text": [
      "The Total marks   =  389.0 /500.0\n",
      "The Average marks =  77.8\n",
      "The Percentage    =  77.8 %\n"
     ]
    }
   ],
   "source": [
    "# QNO:6 Write a python program to input marks of five subjects of a student and print its average mark\n",
    "# NAME: ARPAN PANIGRAHI\n",
    "# SIC NO: 180310197\n",
    "\n",
    "print(\"Enter the marks of five subjects::\")\n",
    "\n",
    "p, c, m, e, h, total, average, percentage = float(input()), float(input()), float(input()), float(input()), float(input()), None, None, None\n",
    "\n",
    "total = p + c + m + e + h\n",
    "average = total / 5.0\n",
    "percentage = (total / 500.0) * 100\n",
    "\n",
    "print(\"The Total marks   = \", total, \"/500.0\")\n",
    "print(\"The Average marks = \", average)\n",
    "print(\"The Percentage    = \", percentage, \"%\")\n"
   ]
  },
  {
   "cell_type": "code",
   "execution_count": 10,
   "metadata": {
    "cocalc": {
     "outputs": {
      "0": {
       "name": "input",
       "opts": {
        "password": false,
        "prompt": "Enter a number : "
       },
       "output_type": "stream",
       "value": "5"
      }
     }
    },
    "collapsed": false
   },
   "outputs": [
    {
     "name": "stdout",
     "output_type": "stream",
     "text": "Enter a number :  5"
    },
    {
     "name": "stdout",
     "output_type": "stream",
     "text": [
      "5^2 = 25\n",
      "5^3 = 125\n",
      "5^4 = 625\n"
     ]
    }
   ],
   "source": [
    "# QNO:7 Write a python program to input a number and print its square, cube and fourth power\n",
    "# NAME: ARPAN PANIGRAHI\n",
    "# SIC NO: 180310197\n",
    "\n",
    "num = int(input(\"Enter a number : \"))\n",
    "print(\"\",num,\"^2 = \",(num*num),\"\\n\",num,\"^3 = \",(num*num*num),\"\\n\",num,\"^4 = \",(num*num*num*num),sep='')\n"
   ]
  },
  {
   "cell_type": "code",
   "execution_count": 11,
   "metadata": {
    "cocalc": {
     "outputs": {
      "0": {
       "name": "input",
       "opts": {
        "password": false,
        "prompt": "Enter first side: "
       },
       "output_type": "stream",
       "value": "5"
      },
      "1": {
       "name": "input",
       "opts": {
        "password": false,
        "prompt": "Enter second side: "
       },
       "output_type": "stream",
       "value": "4"
      },
      "2": {
       "name": "input",
       "opts": {
        "password": false,
        "prompt": "Enter third side: "
       },
       "output_type": "stream",
       "value": "2"
      }
     }
    },
    "collapsed": false
   },
   "outputs": [
    {
     "name": "stdout",
     "output_type": "stream",
     "text": "Enter first side:  5"
    },
    {
     "name": "stdout",
     "output_type": "stream",
     "text": "Enter second side:  4"
    },
    {
     "name": "stdout",
     "output_type": "stream",
     "text": "Enter third side:  2"
    },
    {
     "name": "stdout",
     "output_type": "stream",
     "text": [
      "The area of the triangle is 3.80\n"
     ]
    }
   ],
   "source": [
    "# QNO:8 Write a python program to input a sides of a triangle and print its area\n",
    "# NAME: ARPAN PANIGRAHI\n",
    "# SIC NO: 180310197\n",
    "\n",
    "# Three sides of the triangle is a, b and c:  \n",
    "a = float(input('Enter first side: '))  \n",
    "b = float(input('Enter second side: '))  \n",
    "c = float(input('Enter third side: '))  \n",
    "  \n",
    "# calculate the semi-perimeter  \n",
    "s = (a + b + c) / 2  \n",
    "  \n",
    "# calculate the area  \n",
    "area = (s*(s-a)*(s-b)*(s-c)) ** 0.5  \n",
    "print('The area of the triangle is %0.2f' %area)\n"
   ]
  },
  {
   "cell_type": "code",
   "execution_count": 12,
   "metadata": {
    "cocalc": {
     "outputs": {
      "0": {
       "name": "input",
       "opts": {
        "password": false,
        "prompt": "Enter amount: "
       },
       "output_type": "stream",
       "value": "45"
      },
      "1": {
       "name": "input",
       "opts": {
        "password": false,
        "prompt": "Enter time: "
       },
       "output_type": "stream",
       "value": "2"
      },
      "2": {
       "name": "input",
       "opts": {
        "password": false,
        "prompt": "Enter rate: "
       },
       "output_type": "stream",
       "value": "5"
      }
     }
    },
    "collapsed": false
   },
   "outputs": [
    {
     "name": "stdout",
     "output_type": "stream",
     "text": "Enter amount:  45"
    },
    {
     "name": "stdout",
     "output_type": "stream",
     "text": "Enter time:  2"
    },
    {
     "name": "stdout",
     "output_type": "stream",
     "text": "Enter rate:  5"
    },
    {
     "name": "stdout",
     "output_type": "stream",
     "text": [
      "Simple interest is: 4.500000\n",
      "Compound interest is: 4.612500\n"
     ]
    }
   ],
   "source": [
    "# QNO:9 Write a python program to compute SI and CI.\n",
    "# NAME: ARPAN PANIGRAHI\n",
    "# SIC NO: 180310197\n",
    "\n",
    "principal = float(input(\"Enter amount: \"))\n",
    "time = float(input(\"Enter time: \"))\n",
    "rate = float(input(\"Enter rate: \"))\n",
    "\n",
    "simple_interest = (principal*time*rate)/100\n",
    "compound_interest = principal * ((1+rate/100)**time - 1)\n",
    "\n",
    "print(\"Simple interest is: %f\" % (simple_interest))\n",
    "print(\"Compound interest is: %f\" % (compound_interest))\n",
    "                        \n"
   ]
  },
  {
   "cell_type": "code",
   "execution_count": 13,
   "metadata": {
    "cocalc": {
     "outputs": {
      "0": {
       "name": "input",
       "opts": {
        "password": false,
        "prompt": "Enter a number = "
       },
       "output_type": "stream",
       "value": "7"
      }
     }
    },
    "collapsed": false
   },
   "outputs": [
    {
     "name": "stdout",
     "output_type": "stream",
     "text": "Enter a number =  7"
    },
    {
     "name": "stdout",
     "output_type": "stream",
     "text": [
      "7 14 21 28 35\n"
     ]
    }
   ],
   "source": [
    "# QNO:10 Write a python program to input a number and print its first 5 multiples.\n",
    "# NAME: ARPAN PANIGRAHI\n",
    "# SIC NO: 180310197\n",
    "\n",
    "a = int(input(\"Enter a number = \"))\n",
    "print(a, 2*a, 3*a, 4*a, 5*a)\n"
   ]
  },
  {
   "cell_type": "code",
   "execution_count": 14,
   "metadata": {
    "collapsed": false
   },
   "outputs": [
    {
     "name": "stdout",
     "output_type": "stream",
     "text": [
      "Before swapping a =  10 , b = 20 , c = 30\n",
      "After swapping a =  30 , b = 10 , c = 20\n"
     ]
    }
   ],
   "source": [
    "# QNO:11 Write a python program to swap three variables.\n",
    "# NAME: ARPAN PANIGRAHI\n",
    "# SIC NO: 180310197\n",
    "\n",
    "def swapThree(a, b, c):\n",
    "    a = a + b + c\n",
    "    b = a - (b + c)\n",
    "    c = a - (b + c)\n",
    "    a = a - (b + c)\n",
    "    print(\"After swapping a = \",a,\", b =\",b,\", c =\",c)\n",
    "\n",
    "if __name__ == '__main__':\n",
    "    a = 10\n",
    "    b = 20\n",
    "    c = 30\n",
    "    print(\"Before swapping a = \",a,\", b =\",b,\", c =\",c)\n",
    "    swapThree(a, b, c)\n"
   ]
  },
  {
   "cell_type": "code",
   "execution_count": 15,
   "metadata": {
    "cocalc": {
     "outputs": {
      "0": {
       "name": "input",
       "opts": {
        "password": false,
        "prompt": "Enter first number = "
       },
       "output_type": "stream",
       "value": "5"
      },
      "1": {
       "name": "input",
       "opts": {
        "password": false,
        "prompt": "Enter second number = "
       },
       "output_type": "stream",
       "value": "2"
      },
      "2": {
       "name": "input",
       "opts": {
        "password": false,
        "prompt": "Enter third number = "
       },
       "output_type": "stream",
       "value": "3"
      }
     }
    },
    "collapsed": false
   },
   "outputs": [
    {
     "name": "stdout",
     "output_type": "stream",
     "text": "Enter first number =  5"
    },
    {
     "name": "stdout",
     "output_type": "stream",
     "text": "Enter second number =  2"
    },
    {
     "name": "stdout",
     "output_type": "stream",
     "text": "Enter third number =  3"
    },
    {
     "name": "stdout",
     "output_type": "stream",
     "text": [
      "value =  0\n"
     ]
    }
   ],
   "source": [
    "# QNO:12 Write a python program to evaluate the expression 4x^4+3y^3-9z+6\n",
    "# NAME: ARPAN PANIGRAHI\n",
    "# SIC NO: 180310197\n",
    "\n",
    "x = int(input(\"Enter first number = \"))\n",
    "y = int(input(\"Enter second number = \"))\n",
    "z = int(input(\"Enter third number = \"))\n",
    "expression = (4*x^4)+(3*y^3)-(9*z)+(6)\n",
    "print (\"value = \",expression)\n"
   ]
  },
  {
   "cell_type": "code",
   "execution_count": 16,
   "metadata": {
    "cocalc": {
     "outputs": {
      "1": {
       "name": "input",
       "opts": {
        "password": false,
        "prompt": "Enter any string in uppercase to convert in lowercase: "
       },
       "output_type": "stream",
       "value": "SILICON INSTITUTE OF TECHNOLOGY BHUBANESWAR"
      }
     }
    },
    "collapsed": false
   },
   "outputs": [
    {
     "name": "stdout",
     "output_type": "stream",
     "text": [
      "Enter 'x' for exit.\n"
     ]
    },
    {
     "name": "stdout",
     "output_type": "stream",
     "text": "Enter any string in uppercase to convert in lowercase:  SILICON INSTITUTE OF TECHNOLOGY BHUBANESWAR"
    },
    {
     "name": "stdout",
     "output_type": "stream",
     "text": [
      "\n",
      "Same String in Lowercase = silicon institute of technology bhubaneswar\n"
     ]
    }
   ],
   "source": [
    "# QNO:13 Write a python program to take a input in upperacase and change it to lowercase.\n",
    "# NAME: ARPAN PANIGRAHI\n",
    "# SIC NO: 180310197\n",
    "\n",
    "print(\"Enter 'x' for exit.\")\n",
    "string = input(\"Enter any string in uppercase to convert in lowercase: \")\n",
    "if string =='x':\n",
    "    exit();\n",
    "else:\n",
    "    string_in_lowercase = string.lower();\n",
    "    print(\"\\nSame String in Lowercase =\",string_in_lowercase);\n"
   ]
  },
  {
   "cell_type": "code",
   "execution_count": 0,
   "metadata": {
    "collapsed": false
   },
   "outputs": [
   ],
   "source": [
   ]
  }
 ],
 "metadata": {
  "kernelspec": {
   "display_name": "Python 3 (system-wide)",
   "language": "python",
   "metadata": {
    "cocalc": {
     "description": "Python 3 programming language",
     "priority": 100,
     "url": "https://www.python.org/"
    }
   },
   "name": "python3",
   "resource_dir": "/ext/jupyter/kernels/python3"
  },
  "language_info": {
   "codemirror_mode": {
    "name": "ipython",
    "version": 3
   },
   "file_extension": ".py",
   "mimetype": "text/x-python",
   "name": "python",
   "nbconvert_exporter": "python",
   "pygments_lexer": "ipython3",
   "version": "3.8.5"
  }
 },
 "nbformat": 4,
 "nbformat_minor": 4
}